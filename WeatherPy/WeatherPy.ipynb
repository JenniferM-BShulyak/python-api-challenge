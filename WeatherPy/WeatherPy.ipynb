{
 "cells": [
  {
   "cell_type": "markdown",
   "metadata": {},
   "source": [
    "# WeatherPy"
   ]
  },
  {
   "cell_type": "markdown",
   "metadata": {},
   "source": [
    "## Dependencies"
   ]
  },
  {
   "cell_type": "code",
   "execution_count": 1,
   "metadata": {},
   "outputs": [],
   "source": [
    "# Dependencies and Setup\n",
    "\n",
    "import matplotlib.pyplot as plt\n",
    "import pandas as pd\n",
    "import numpy as np\n",
    "import requests\n",
    "import time\n",
    "from scipy.stats import linregress\n",
    "\n",
    "\n",
    "\n",
    "\n",
    "# Import citipy to determine the cities based on latitude and longitude\n",
    "from citipy import citipy"
   ]
  },
  {
   "cell_type": "markdown",
   "metadata": {},
   "source": [
    "## Create Random Geographic Coordinates and List of Cities"
   ]
  },
  {
   "cell_type": "code",
   "execution_count": 2,
   "metadata": {},
   "outputs": [
    {
     "name": "stdout",
     "output_type": "stream",
     "text": [
      "Number of cities in the list: 609\n"
     ]
    }
   ],
   "source": [
    "# Empty list for holding the latitude and longitude combinations\n",
    "lat_lngs = []\n",
    "\n",
    "# Empty list for holding the cities names\n",
    "cities = []\n",
    "\n",
    "# Range of latitudes and longitudes\n",
    "lat_range = (-90, 90)\n",
    "lng_range = (-180, 180)\n",
    "\n",
    "# Create a set of random lat and lng combinations\n",
    "lats = np.random.uniform(lat_range[0], lat_range[1], size=1500)\n",
    "lngs = np.random.uniform(lng_range[0], lng_range[1], size=1500)\n",
    "lat_lngs = zip(lats, lngs)\n",
    "\n",
    "# Identify nearest city for each lat, lng combination\n",
    "for lat_lng in lat_lngs:\n",
    "    city = citipy.nearest_city(lat_lng[0], lat_lng[1]).city_name\n",
    "    \n",
    "    # If the city is unique, then add it to a our cities list\n",
    "    if city not in cities:\n",
    "        cities.append(city)\n",
    "\n",
    "# Print the city count to confirm sufficient count\n",
    "print(f\"Number of cities in the list: {len(cities)}\")"
   ]
  },
  {
   "cell_type": "markdown",
   "metadata": {},
   "source": [
    "# Requirement 1: Create Plots to Show Relationship Between Weather Variables and Latitude"
   ]
  },
  {
   "cell_type": "markdown",
   "metadata": {},
   "source": [
    "## Make API requests to fill in weather data for each city"
   ]
  },
  {
   "cell_type": "code",
   "execution_count": 3,
   "metadata": {},
   "outputs": [],
   "source": [
    "# Set the URL Base\n",
    "url = \"https://api.openweathermap.org/data/2.5/weather?\"\n",
    "\n",
    "# Define an empty list to fetch the weather data for each city\n",
    "city_data = []\n",
    "\n",
    "# Create Counters\n",
    "record_count = 1\n",
    "set_count = 1"
   ]
  },
  {
   "cell_type": "code",
   "execution_count": 4,
   "metadata": {},
   "outputs": [
    {
     "name": "stdout",
     "output_type": "stream",
     "text": [
      "Beginning Data Retrieval     \n",
      "-----------------------------\n"
     ]
    }
   ],
   "source": [
    "# Print to logger\n",
    "print(\"Beginning Data Retrieval     \")\n",
    "print(\"-----------------------------\")"
   ]
  },
  {
   "cell_type": "code",
   "execution_count": 5,
   "metadata": {},
   "outputs": [
    {
     "name": "stdout",
     "output_type": "stream",
     "text": [
      "Processing Record 1 of Set 1 | albany\n",
      "Processing Record 2 of Set 1 | saltpond\n",
      "Processing Record 3 of Set 1 | kapaa\n",
      "Processing Record 4 of Set 1 | rikitea\n",
      "Processing Record 5 of Set 1 | cabo san lucas\n",
      "Processing Record 6 of Set 1 | toulepleu\n",
      "City not found. Skipping...\n",
      "Processing Record 7 of Set 1 | qaanaaq\n",
      "Processing Record 8 of Set 1 | port-gentil\n",
      "Processing Record 9 of Set 1 | port alfred\n",
      "Processing Record 10 of Set 1 | san carlos de bariloche\n",
      "Processing Record 11 of Set 1 | belushya guba\n",
      "City not found. Skipping...\n",
      "Processing Record 12 of Set 1 | vila franca do campo\n",
      "Processing Record 13 of Set 1 | san cristobal\n",
      "Processing Record 14 of Set 1 | lidkoping\n",
      "Processing Record 15 of Set 1 | bafra\n",
      "Processing Record 16 of Set 1 | puerto ayora\n",
      "Processing Record 17 of Set 1 | cape town\n",
      "Processing Record 18 of Set 1 | yakeshi\n",
      "Processing Record 19 of Set 1 | punta arenas\n",
      "Processing Record 20 of Set 1 | isiro\n",
      "Processing Record 21 of Set 1 | vaini\n",
      "Processing Record 22 of Set 1 | mataiea\n",
      "City not found. Skipping...\n",
      "Processing Record 23 of Set 1 | plettenberg bay\n",
      "Processing Record 24 of Set 1 | atuona\n",
      "Processing Record 25 of Set 1 | hasaki\n",
      "Processing Record 26 of Set 1 | sydney\n",
      "Processing Record 27 of Set 1 | kamenskoye\n",
      "City not found. Skipping...\n",
      "Processing Record 28 of Set 1 | sinnamary\n",
      "Processing Record 29 of Set 1 | qui nhon\n",
      "Processing Record 30 of Set 1 | nome\n",
      "Processing Record 31 of Set 1 | port hedland\n",
      "Processing Record 32 of Set 1 | port elizabeth\n",
      "Processing Record 33 of Set 1 | puerto escondido\n",
      "Processing Record 34 of Set 1 | new norfolk\n",
      "Processing Record 35 of Set 1 | tongliao\n",
      "Processing Record 36 of Set 1 | jalu\n",
      "Processing Record 37 of Set 1 | ponta do sol\n",
      "Processing Record 38 of Set 1 | saskylakh\n",
      "Processing Record 39 of Set 1 | hobart\n",
      "Processing Record 40 of Set 1 | katherine\n",
      "Processing Record 41 of Set 1 | lorengau\n",
      "Processing Record 42 of Set 1 | ilulissat\n",
      "Processing Record 43 of Set 1 | gracac\n",
      "Processing Record 44 of Set 1 | kishtwar\n",
      "Processing Record 45 of Set 1 | illoqqortoormiut\n",
      "City not found. Skipping...\n",
      "Processing Record 46 of Set 1 | isangel\n",
      "Processing Record 47 of Set 1 | arraial do cabo\n",
      "Processing Record 48 of Set 1 | lamu\n",
      "Processing Record 49 of Set 1 | caravelas\n",
      "Processing Record 50 of Set 1 | nikolskoye\n",
      "Processing Record 0 of Set 2 | puerto maldonado\n",
      "Processing Record 1 of Set 2 | baghdad\n",
      "Processing Record 2 of Set 2 | oxford\n",
      "Processing Record 3 of Set 2 | stodolishche\n",
      "Processing Record 4 of Set 2 | bredasdorp\n",
      "Processing Record 5 of Set 2 | taolanaro\n",
      "City not found. Skipping...\n",
      "Processing Record 6 of Set 2 | nakusp\n",
      "Processing Record 7 of Set 2 | busselton\n",
      "Processing Record 8 of Set 2 | hithadhoo\n",
      "Processing Record 9 of Set 2 | chuy\n",
      "Processing Record 10 of Set 2 | souillac\n",
      "Processing Record 11 of Set 2 | aksarka\n",
      "Processing Record 12 of Set 2 | mataura\n",
      "Processing Record 13 of Set 2 | tasiilaq\n",
      "Processing Record 14 of Set 2 | abdulino\n",
      "Processing Record 15 of Set 2 | valdivia\n",
      "Processing Record 16 of Set 2 | makow mazowiecki\n",
      "Processing Record 17 of Set 2 | manta\n",
      "Processing Record 18 of Set 2 | tiksi\n",
      "Processing Record 19 of Set 2 | miri\n",
      "Processing Record 20 of Set 2 | victoria\n",
      "Processing Record 21 of Set 2 | sabang\n",
      "Processing Record 22 of Set 2 | dalbandin\n",
      "Processing Record 23 of Set 2 | tomatlan\n",
      "Processing Record 24 of Set 2 | tuy hoa\n",
      "Processing Record 25 of Set 2 | camacari\n",
      "Processing Record 26 of Set 2 | hermanus\n",
      "Processing Record 27 of Set 2 | panaba\n",
      "Processing Record 28 of Set 2 | castro\n",
      "Processing Record 29 of Set 2 | geraldton\n",
      "Processing Record 30 of Set 2 | port lincoln\n",
      "Processing Record 31 of Set 2 | faanui\n",
      "Processing Record 32 of Set 2 | khatanga\n",
      "Processing Record 33 of Set 2 | tabiauea\n",
      "City not found. Skipping...\n",
      "Processing Record 34 of Set 2 | fortuna\n",
      "Processing Record 35 of Set 2 | sorland\n",
      "Processing Record 36 of Set 2 | pudozh\n",
      "Processing Record 37 of Set 2 | tazovskiy\n",
      "Processing Record 38 of Set 2 | mar del plata\n",
      "Processing Record 39 of Set 2 | bambous virieux\n",
      "Processing Record 40 of Set 2 | lowestoft\n",
      "Processing Record 41 of Set 2 | tecoanapa\n",
      "Processing Record 42 of Set 2 | lavrentiya\n",
      "Processing Record 43 of Set 2 | hilo\n",
      "Processing Record 44 of Set 2 | constitucion\n",
      "Processing Record 45 of Set 2 | ahipara\n",
      "Processing Record 46 of Set 2 | mahuva\n",
      "Processing Record 47 of Set 2 | sentyabrskiy\n",
      "City not found. Skipping...\n",
      "Processing Record 48 of Set 2 | teknaf\n",
      "Processing Record 49 of Set 2 | kaitangata\n",
      "Processing Record 0 of Set 3 | severo-kurilsk\n",
      "Processing Record 1 of Set 3 | dikson\n",
      "Processing Record 2 of Set 3 | moron\n",
      "Processing Record 3 of Set 3 | salalah\n",
      "Processing Record 4 of Set 3 | umm lajj\n",
      "Processing Record 5 of Set 3 | alexandria\n",
      "Processing Record 6 of Set 3 | harper\n",
      "Processing Record 7 of Set 3 | carnarvon\n",
      "Processing Record 8 of Set 3 | tarakan\n",
      "Processing Record 9 of Set 3 | weatherford\n",
      "Processing Record 10 of Set 3 | tanshui\n",
      "City not found. Skipping...\n",
      "Processing Record 11 of Set 3 | gushikawa\n",
      "Processing Record 12 of Set 3 | saint-pierre\n",
      "Processing Record 13 of Set 3 | codrington\n",
      "Processing Record 14 of Set 3 | ingham\n",
      "Processing Record 15 of Set 3 | kiruna\n",
      "Processing Record 16 of Set 3 | cockburn town\n",
      "Processing Record 17 of Set 3 | mahebourg\n",
      "Processing Record 18 of Set 3 | laguna\n",
      "Processing Record 19 of Set 3 | barbar\n",
      "City not found. Skipping...\n",
      "Processing Record 20 of Set 3 | airai\n",
      "Processing Record 21 of Set 3 | longyearbyen\n",
      "Processing Record 22 of Set 3 | dicabisagan\n",
      "Processing Record 23 of Set 3 | nizhneyansk\n",
      "City not found. Skipping...\n",
      "Processing Record 24 of Set 3 | jamestown\n",
      "Processing Record 25 of Set 3 | iskateley\n",
      "Processing Record 26 of Set 3 | berdigestyakh\n",
      "Processing Record 27 of Set 3 | barentsburg\n",
      "City not found. Skipping...\n",
      "Processing Record 28 of Set 3 | pevek\n",
      "Processing Record 29 of Set 3 | loralai\n",
      "Processing Record 30 of Set 3 | mirnyy\n",
      "Processing Record 31 of Set 3 | erenhot\n",
      "Processing Record 32 of Set 3 | bakchar\n",
      "Processing Record 33 of Set 3 | saleilua\n",
      "City not found. Skipping...\n",
      "Processing Record 34 of Set 3 | amderma\n",
      "City not found. Skipping...\n",
      "Processing Record 35 of Set 3 | east london\n",
      "Processing Record 36 of Set 3 | san policarpo\n",
      "Processing Record 37 of Set 3 | udachnyy\n",
      "Processing Record 38 of Set 3 | thompson\n",
      "Processing Record 39 of Set 3 | fairbanks\n",
      "Processing Record 40 of Set 3 | iranshahr\n",
      "Processing Record 41 of Set 3 | vomp\n",
      "Processing Record 42 of Set 3 | embrach\n",
      "Processing Record 43 of Set 3 | ust-kuyga\n",
      "Processing Record 44 of Set 3 | fukue\n",
      "Processing Record 45 of Set 3 | camacha\n",
      "Processing Record 46 of Set 3 | adrar\n",
      "Processing Record 47 of Set 3 | cidreira\n",
      "Processing Record 48 of Set 3 | esperance\n",
      "Processing Record 49 of Set 3 | yanam\n",
      "Processing Record 0 of Set 4 | cairns\n",
      "Processing Record 1 of Set 4 | bluff\n",
      "Processing Record 2 of Set 4 | ushuaia\n",
      "Processing Record 3 of Set 4 | huarmey\n",
      "Processing Record 4 of Set 4 | nanakuli\n",
      "Processing Record 5 of Set 4 | tawkar\n",
      "City not found. Skipping...\n",
      "Processing Record 6 of Set 4 | nevel\n",
      "Processing Record 7 of Set 4 | bobon\n",
      "Processing Record 8 of Set 4 | buin\n",
      "Processing Record 9 of Set 4 | abrau-dyurso\n",
      "Processing Record 10 of Set 4 | georgetown\n",
      "Processing Record 11 of Set 4 | contamana\n",
      "Processing Record 12 of Set 4 | coihueco\n",
      "Processing Record 13 of Set 4 | severo-yeniseyskiy\n",
      "Processing Record 14 of Set 4 | oktyabrskiy\n",
      "Processing Record 15 of Set 4 | vaitupu\n",
      "City not found. Skipping...\n",
      "Processing Record 16 of Set 4 | rungata\n",
      "City not found. Skipping...\n",
      "Processing Record 17 of Set 4 | sao filipe\n",
      "Processing Record 18 of Set 4 | douentza\n",
      "Processing Record 19 of Set 4 | saint-philippe\n",
      "Processing Record 20 of Set 4 | husavik\n",
      "Processing Record 21 of Set 4 | anadyr\n",
      "Processing Record 22 of Set 4 | yellapur\n",
      "Processing Record 23 of Set 4 | aratoca\n",
      "Processing Record 24 of Set 4 | beringovskiy\n",
      "Processing Record 25 of Set 4 | cherskiy\n",
      "Processing Record 26 of Set 4 | buraydah\n",
      "Processing Record 27 of Set 4 | torbay\n",
      "Processing Record 28 of Set 4 | kuche\n",
      "City not found. Skipping...\n",
      "Processing Record 29 of Set 4 | avarua\n",
      "Processing Record 30 of Set 4 | pangnirtung\n",
      "Processing Record 31 of Set 4 | barrow\n",
      "Processing Record 32 of Set 4 | margate\n",
      "Processing Record 33 of Set 4 | qaqortoq\n",
      "Processing Record 34 of Set 4 | saleaula\n",
      "City not found. Skipping...\n",
      "Processing Record 35 of Set 4 | vilyuysk\n",
      "Processing Record 36 of Set 4 | carballo\n",
      "Processing Record 37 of Set 4 | hamilton\n",
      "Processing Record 38 of Set 4 | muzhi\n",
      "Processing Record 39 of Set 4 | ijaki\n",
      "City not found. Skipping...\n",
      "Processing Record 40 of Set 4 | albury\n",
      "Processing Record 41 of Set 4 | banjar\n",
      "Processing Record 42 of Set 4 | kenai\n",
      "Processing Record 43 of Set 4 | lakes entrance\n",
      "Processing Record 44 of Set 4 | tiquicheo\n",
      "Processing Record 45 of Set 4 | mount gambier\n",
      "Processing Record 46 of Set 4 | smolenka\n",
      "Processing Record 47 of Set 4 | nyurba\n",
      "Processing Record 48 of Set 4 | kirakira\n",
      "Processing Record 49 of Set 4 | scottsbluff\n",
      "Processing Record 0 of Set 5 | butaritari\n",
      "Processing Record 1 of Set 5 | anloga\n",
      "Processing Record 2 of Set 5 | talnakh\n",
      "Processing Record 3 of Set 5 | lucapa\n",
      "Processing Record 4 of Set 5 | sao felix do xingu\n",
      "Processing Record 5 of Set 5 | klaksvik\n",
      "Processing Record 6 of Set 5 | leshukonskoye\n",
      "Processing Record 7 of Set 5 | khani\n",
      "Processing Record 8 of Set 5 | san miguel\n",
      "Processing Record 9 of Set 5 | alice springs\n",
      "Processing Record 10 of Set 5 | nhamunda\n",
      "Processing Record 11 of Set 5 | paamiut\n",
      "Processing Record 12 of Set 5 | puerto quijarro\n",
      "Processing Record 13 of Set 5 | candido mendes\n",
      "Processing Record 14 of Set 5 | sancti spiritus\n",
      "Processing Record 15 of Set 5 | maneadero\n",
      "Processing Record 16 of Set 5 | tuatapere\n",
      "Processing Record 17 of Set 5 | aykhal\n",
      "Processing Record 18 of Set 5 | shchelyayur\n",
      "City not found. Skipping...\n",
      "Processing Record 19 of Set 5 | provideniya\n",
      "Processing Record 20 of Set 5 | nguiu\n",
      "City not found. Skipping...\n",
      "Processing Record 21 of Set 5 | haines junction\n",
      "Processing Record 22 of Set 5 | touros\n",
      "Processing Record 23 of Set 5 | bengkulu\n",
      "Processing Record 24 of Set 5 | ocampo\n",
      "Processing Record 25 of Set 5 | manitouwadge\n",
      "Processing Record 26 of Set 5 | saint anthony\n",
      "Processing Record 27 of Set 5 | bilma\n",
      "Processing Record 28 of Set 5 | nsanje\n",
      "Processing Record 29 of Set 5 | kavieng\n",
      "Processing Record 30 of Set 5 | syedove\n",
      "Processing Record 31 of Set 5 | bariadi\n",
      "Processing Record 32 of Set 5 | vakhrushev\n",
      "Processing Record 33 of Set 5 | ribeira grande\n",
      "Processing Record 34 of Set 5 | luzhou\n",
      "Processing Record 35 of Set 5 | bathsheba\n",
      "Processing Record 36 of Set 5 | spearfish\n",
      "Processing Record 37 of Set 5 | vrangel\n",
      "Processing Record 38 of Set 5 | vao\n",
      "Processing Record 39 of Set 5 | kampot\n",
      "Processing Record 40 of Set 5 | veraval\n",
      "Processing Record 41 of Set 5 | dzilam gonzalez\n",
      "Processing Record 42 of Set 5 | cagayan de tawi-tawi\n",
      "City not found. Skipping...\n",
      "Processing Record 43 of Set 5 | marawi\n",
      "Processing Record 44 of Set 5 | komsomolskiy\n",
      "Processing Record 45 of Set 5 | lyantonde\n",
      "Processing Record 46 of Set 5 | jacareacanga\n",
      "Processing Record 47 of Set 5 | ternate\n",
      "Processing Record 48 of Set 5 | yuancheng\n",
      "Processing Record 49 of Set 5 | maragogi\n",
      "Processing Record 0 of Set 6 | kruisfontein\n",
      "Processing Record 1 of Set 6 | samusu\n",
      "City not found. Skipping...\n",
      "Processing Record 2 of Set 6 | salym\n",
      "Processing Record 3 of Set 6 | derzhavinsk\n",
      "Processing Record 4 of Set 6 | grindavik\n",
      "Processing Record 5 of Set 6 | matagami\n",
      "Processing Record 6 of Set 6 | mlonggo\n",
      "Processing Record 7 of Set 6 | los llanos de aridane\n",
      "Processing Record 8 of Set 6 | menongue\n",
      "Processing Record 9 of Set 6 | pueblo nuevo\n",
      "Processing Record 10 of Set 6 | norman wells\n",
      "Processing Record 11 of Set 6 | labuhan\n",
      "Processing Record 12 of Set 6 | yar-sale\n",
      "Processing Record 13 of Set 6 | chokurdakh\n",
      "Processing Record 14 of Set 6 | goudomp\n",
      "City not found. Skipping...\n",
      "Processing Record 15 of Set 6 | hambantota\n",
      "Processing Record 16 of Set 6 | umzimvubu\n",
      "City not found. Skipping...\n",
      "Processing Record 17 of Set 6 | port hardy\n",
      "Processing Record 18 of Set 6 | saldanha\n",
      "Processing Record 19 of Set 6 | balkanabat\n",
      "Processing Record 20 of Set 6 | khilok\n",
      "Processing Record 21 of Set 6 | santa isabel do rio negro\n",
      "Processing Record 22 of Set 6 | lebu\n",
      "Processing Record 23 of Set 6 | olot\n",
      "Processing Record 24 of Set 6 | broken hill\n",
      "Processing Record 25 of Set 6 | eugene\n",
      "Processing Record 26 of Set 6 | antalaha\n",
      "Processing Record 27 of Set 6 | port blair\n",
      "Processing Record 28 of Set 6 | upernavik\n",
      "Processing Record 29 of Set 6 | mahoba\n",
      "Processing Record 30 of Set 6 | zwedru\n",
      "Processing Record 31 of Set 6 | vestmannaeyjar\n",
      "Processing Record 32 of Set 6 | manokwari\n",
      "Processing Record 33 of Set 6 | kargopol\n",
      "Processing Record 34 of Set 6 | leningradskiy\n",
      "Processing Record 35 of Set 6 | racine\n",
      "Processing Record 36 of Set 6 | tateyama\n",
      "Processing Record 37 of Set 6 | vardo\n",
      "Processing Record 38 of Set 6 | machinga\n",
      "Processing Record 39 of Set 6 | porto novo\n",
      "Processing Record 40 of Set 6 | zhigansk\n",
      "Processing Record 41 of Set 6 | pacasmayo\n",
      "Processing Record 42 of Set 6 | mys shmidta\n",
      "City not found. Skipping...\n",
      "Processing Record 43 of Set 6 | sao joaquim\n",
      "Processing Record 44 of Set 6 | liling\n",
      "Processing Record 45 of Set 6 | ancud\n",
      "Processing Record 46 of Set 6 | olafsvik\n",
      "Processing Record 47 of Set 6 | malmesbury\n",
      "Processing Record 48 of Set 6 | mount isa\n",
      "Processing Record 49 of Set 6 | hirara\n",
      "Processing Record 0 of Set 7 | bandarbeyla\n",
      "Processing Record 1 of Set 7 | korla\n",
      "Processing Record 2 of Set 7 | katsuura\n",
      "Processing Record 3 of Set 7 | sorsk\n",
      "Processing Record 4 of Set 7 | nampa\n",
      "Processing Record 5 of Set 7 | mundo nuevo\n",
      "Processing Record 6 of Set 7 | talcahuano\n",
      "Processing Record 7 of Set 7 | okha\n",
      "Processing Record 8 of Set 7 | comodoro rivadavia\n",
      "Processing Record 9 of Set 7 | araripina\n",
      "Processing Record 10 of Set 7 | ballina\n",
      "Processing Record 11 of Set 7 | bilibino\n",
      "Processing Record 12 of Set 7 | novaya chigla\n",
      "Processing Record 13 of Set 7 | coihaique\n",
      "Processing Record 14 of Set 7 | abu zabad\n",
      "Processing Record 15 of Set 7 | liwale\n",
      "Processing Record 16 of Set 7 | grand gaube\n",
      "Processing Record 17 of Set 7 | pringsewu\n",
      "Processing Record 18 of Set 7 | pacific grove\n",
      "Processing Record 19 of Set 7 | shimoda\n",
      "Processing Record 20 of Set 7 | namatanai\n",
      "Processing Record 21 of Set 7 | broome\n",
      "Processing Record 22 of Set 7 | shingu\n",
      "Processing Record 23 of Set 7 | shelburne\n",
      "Processing Record 24 of Set 7 | grand river south east\n",
      "City not found. Skipping...\n",
      "Processing Record 25 of Set 7 | giyani\n",
      "Processing Record 26 of Set 7 | alyangula\n",
      "Processing Record 27 of Set 7 | faridan\n",
      "City not found. Skipping...\n",
      "Processing Record 28 of Set 7 | mana\n",
      "Processing Record 29 of Set 7 | bonavista\n",
      "Processing Record 30 of Set 7 | xining\n",
      "Processing Record 31 of Set 7 | hovd\n",
      "Processing Record 32 of Set 7 | yerbogachen\n",
      "Processing Record 33 of Set 7 | yellowknife\n",
      "Processing Record 34 of Set 7 | maningrida\n",
      "Processing Record 35 of Set 7 | brewster\n",
      "Processing Record 36 of Set 7 | aybak\n",
      "City not found. Skipping...\n",
      "Processing Record 37 of Set 7 | dunedin\n",
      "Processing Record 38 of Set 7 | lompoc\n",
      "Processing Record 39 of Set 7 | alotau\n",
      "City not found. Skipping...\n",
      "Processing Record 40 of Set 7 | aalen\n",
      "Processing Record 41 of Set 7 | usinsk\n",
      "Processing Record 42 of Set 7 | nemuro\n",
      "Processing Record 43 of Set 7 | bowen\n",
      "Processing Record 44 of Set 7 | itarema\n",
      "Processing Record 45 of Set 7 | nongstoin\n",
      "Processing Record 46 of Set 7 | kemijarvi\n",
      "Processing Record 47 of Set 7 | luderitz\n",
      "Processing Record 48 of Set 7 | northam\n",
      "Processing Record 49 of Set 7 | ulladulla\n",
      "Processing Record 0 of Set 8 | jambi\n",
      "Processing Record 1 of Set 8 | tura\n",
      "Processing Record 2 of Set 8 | tuktoyaktuk\n",
      "Processing Record 3 of Set 8 | acapulco\n",
      "Processing Record 4 of Set 8 | verkhnevilyuysk\n",
      "Processing Record 5 of Set 8 | aflu\n",
      "City not found. Skipping...\n",
      "Processing Record 6 of Set 8 | bodden town\n",
      "Processing Record 7 of Set 8 | kismayo\n",
      "Processing Record 8 of Set 8 | agapovka\n",
      "Processing Record 9 of Set 8 | hohhot\n",
      "Processing Record 10 of Set 8 | gualaquiza\n",
      "Processing Record 11 of Set 8 | faya\n",
      "Processing Record 12 of Set 8 | talgar\n",
      "Processing Record 13 of Set 8 | maceio\n",
      "Processing Record 14 of Set 8 | pontianak\n",
      "Processing Record 15 of Set 8 | sarangani\n",
      "Processing Record 16 of Set 8 | sambava\n",
      "Processing Record 17 of Set 8 | srednekolymsk\n",
      "Processing Record 18 of Set 8 | canton\n",
      "Processing Record 19 of Set 8 | mehamn\n",
      "Processing Record 20 of Set 8 | whithorn\n",
      "Processing Record 21 of Set 8 | otane\n",
      "Processing Record 22 of Set 8 | vyartsilya\n",
      "Processing Record 23 of Set 8 | catamarca\n",
      "Processing Record 24 of Set 8 | santa eulalia\n",
      "Processing Record 25 of Set 8 | amga\n",
      "Processing Record 26 of Set 8 | hofn\n",
      "Processing Record 27 of Set 8 | the valley\n",
      "Processing Record 28 of Set 8 | kathu\n",
      "Processing Record 29 of Set 8 | ilinskiy\n",
      "Processing Record 30 of Set 8 | karasburg\n",
      "Processing Record 31 of Set 8 | bethel\n",
      "Processing Record 32 of Set 8 | clyde river\n",
      "Processing Record 33 of Set 8 | thayetmyo\n",
      "Processing Record 34 of Set 8 | jinchengjiang\n",
      "City not found. Skipping...\n",
      "Processing Record 35 of Set 8 | bargal\n",
      "City not found. Skipping...\n",
      "Processing Record 36 of Set 8 | imbituba\n",
      "Processing Record 37 of Set 8 | amparafaravola\n",
      "Processing Record 38 of Set 8 | dondo\n",
      "Processing Record 39 of Set 8 | kulhudhuffushi\n",
      "Processing Record 40 of Set 8 | doha\n",
      "Processing Record 41 of Set 8 | egvekinot\n",
      "Processing Record 42 of Set 8 | guerrero negro\n",
      "Processing Record 43 of Set 8 | yantai\n",
      "Processing Record 44 of Set 8 | pinsk\n",
      "Processing Record 45 of Set 8 | belmonte\n",
      "Processing Record 46 of Set 8 | brainerd\n",
      "Processing Record 47 of Set 8 | atagay\n",
      "Processing Record 48 of Set 8 | songjianghe\n",
      "Processing Record 49 of Set 8 | batticaloa\n",
      "Processing Record 0 of Set 9 | kuva\n",
      "City not found. Skipping...\n",
      "Processing Record 1 of Set 9 | olinda\n",
      "Processing Record 2 of Set 9 | yerkoy\n",
      "Processing Record 3 of Set 9 | trincomalee\n",
      "Processing Record 4 of Set 9 | baijiantan\n",
      "Processing Record 5 of Set 9 | tripoli\n",
      "Processing Record 6 of Set 9 | lubao\n",
      "Processing Record 7 of Set 9 | namibe\n",
      "Processing Record 8 of Set 9 | olga\n",
      "Processing Record 9 of Set 9 | hukuntsi\n",
      "Processing Record 10 of Set 9 | metro\n",
      "Processing Record 11 of Set 9 | eenhana\n",
      "Processing Record 12 of Set 9 | canutama\n",
      "Processing Record 13 of Set 9 | kargil\n",
      "Processing Record 14 of Set 9 | agogo\n",
      "Processing Record 15 of Set 9 | cabrero\n",
      "Processing Record 16 of Set 9 | dong xoai\n",
      "Processing Record 17 of Set 9 | orchard homes\n",
      "Processing Record 18 of Set 9 | santa rosa\n",
      "Processing Record 19 of Set 9 | koper\n",
      "Processing Record 20 of Set 9 | nishihara\n",
      "Processing Record 21 of Set 9 | matamoros\n",
      "Processing Record 22 of Set 9 | monroe\n",
      "Processing Record 23 of Set 9 | shache\n",
      "Processing Record 24 of Set 9 | borogontsy\n",
      "Processing Record 25 of Set 9 | whyalla\n",
      "Processing Record 26 of Set 9 | barwaha\n",
      "City not found. Skipping...\n",
      "Processing Record 27 of Set 9 | buchanan\n",
      "Processing Record 28 of Set 9 | sergeyevka\n",
      "Processing Record 29 of Set 9 | guhagar\n",
      "Processing Record 30 of Set 9 | ndjole\n",
      "Processing Record 31 of Set 9 | hami\n",
      "Processing Record 32 of Set 9 | richards bay\n",
      "Processing Record 33 of Set 9 | guayaramerin\n",
      "Processing Record 34 of Set 9 | xiuyan\n",
      "Processing Record 35 of Set 9 | kochubey\n",
      "Processing Record 36 of Set 9 | hiriyur\n",
      "Processing Record 37 of Set 9 | tsihombe\n",
      "City not found. Skipping...\n",
      "Processing Record 38 of Set 9 | ponta delgada\n",
      "Processing Record 39 of Set 9 | attawapiskat\n",
      "City not found. Skipping...\n",
      "Processing Record 40 of Set 9 | pangai\n",
      "Processing Record 41 of Set 9 | kalmunai\n",
      "Processing Record 42 of Set 9 | kafanchan\n",
      "Processing Record 43 of Set 9 | mackenzie\n",
      "Processing Record 44 of Set 9 | ketchikan\n",
      "Processing Record 45 of Set 9 | muros\n",
      "Processing Record 46 of Set 9 | pimentel\n",
      "Processing Record 47 of Set 9 | chervone\n",
      "Processing Record 48 of Set 9 | quthing\n",
      "Processing Record 49 of Set 9 | boda\n",
      "Processing Record 0 of Set 10 | marsh harbour\n",
      "Processing Record 1 of Set 10 | palabuhanratu\n",
      "City not found. Skipping...\n",
      "Processing Record 2 of Set 10 | bolivar\n",
      "Processing Record 3 of Set 10 | dingle\n",
      "Processing Record 4 of Set 10 | padang\n",
      "Processing Record 5 of Set 10 | rincon\n",
      "Processing Record 6 of Set 10 | karratha\n",
      "Processing Record 7 of Set 10 | turinsk\n",
      "Processing Record 8 of Set 10 | komatipoort\n",
      "Processing Record 9 of Set 10 | fort frances\n",
      "Processing Record 10 of Set 10 | sao joao da barra\n",
      "Processing Record 11 of Set 10 | daru\n",
      "Processing Record 12 of Set 10 | asau\n",
      "Processing Record 13 of Set 10 | acarau\n",
      "Processing Record 14 of Set 10 | kattivakkam\n",
      "Processing Record 15 of Set 10 | flinders\n",
      "Processing Record 16 of Set 10 | kamaishi\n",
      "Processing Record 17 of Set 10 | lagoa\n",
      "Processing Record 18 of Set 10 | warrnambool\n",
      "Processing Record 19 of Set 10 | horki\n",
      "Processing Record 20 of Set 10 | zhuhai\n",
      "Processing Record 21 of Set 10 | champerico\n",
      "Processing Record 22 of Set 10 | freeport\n",
      "Processing Record 23 of Set 10 | moerai\n",
      "Processing Record 24 of Set 10 | licheng\n",
      "Processing Record 25 of Set 10 | san patricio\n",
      "Processing Record 26 of Set 10 | bubaque\n",
      "Processing Record 27 of Set 10 | tarut\n",
      "Processing Record 28 of Set 10 | marang\n",
      "Processing Record 29 of Set 10 | astoria\n",
      "Processing Record 30 of Set 10 | saint-louis\n",
      "Processing Record 31 of Set 10 | dzhusaly\n",
      "City not found. Skipping...\n",
      "Processing Record 32 of Set 10 | north bend\n",
      "Processing Record 33 of Set 10 | do gonbadan\n",
      "Processing Record 34 of Set 10 | emba\n",
      "Processing Record 35 of Set 10 | evensk\n",
      "Processing Record 36 of Set 10 | izhma\n",
      "Processing Record 37 of Set 10 | port hawkesbury\n",
      "Processing Record 38 of Set 10 | lasa\n",
      "Processing Record 39 of Set 10 | sinnar\n",
      "Processing Record 40 of Set 10 | jhajjar\n",
      "Processing Record 41 of Set 10 | atbasar\n",
      "Processing Record 42 of Set 10 | malibu\n",
      "Processing Record 43 of Set 10 | sioux lookout\n",
      "Processing Record 44 of Set 10 | douglas\n",
      "Processing Record 45 of Set 10 | churapcha\n",
      "Processing Record 46 of Set 10 | iqaluit\n",
      "Processing Record 47 of Set 10 | kamenka\n",
      "Processing Record 48 of Set 10 | kargasok\n",
      "Processing Record 49 of Set 10 | karla\n",
      "Processing Record 0 of Set 11 | omboue\n",
      "Processing Record 1 of Set 11 | saint-joseph\n",
      "Processing Record 2 of Set 11 | malindi\n",
      "Processing Record 3 of Set 11 | thohoyandou\n",
      "Processing Record 4 of Set 11 | kifri\n",
      "Processing Record 5 of Set 11 | san buenaventura\n",
      "Processing Record 6 of Set 11 | college\n",
      "Processing Record 7 of Set 11 | najran\n",
      "Processing Record 8 of Set 11 | dubbo\n",
      "Processing Record 9 of Set 11 | san pedro de macoris\n",
      "Processing Record 10 of Set 11 | nelson bay\n",
      "Processing Record 11 of Set 11 | chamrajnagar\n",
      "Processing Record 12 of Set 11 | guangzhou\n",
      "Processing Record 13 of Set 11 | micheweni\n",
      "Processing Record 14 of Set 11 | yarmouth\n",
      "Processing Record 15 of Set 11 | vila do maio\n",
      "Processing Record 16 of Set 11 | gat\n",
      "Processing Record 17 of Set 11 | teguldet\n",
      "Processing Record 18 of Set 11 | biltine\n",
      "Processing Record 19 of Set 11 | kahului\n",
      "Processing Record 20 of Set 11 | mareeba\n",
      "Processing Record 21 of Set 11 | praia da vitoria\n",
      "Processing Record 22 of Set 11 | luganville\n",
      "Processing Record 23 of Set 11 | stromness\n",
      "Processing Record 24 of Set 11 | queanbeyan\n",
      "Processing Record 25 of Set 11 | boden\n",
      "Processing Record 26 of Set 11 | cocachacra\n",
      "Processing Record 27 of Set 11 | bitkine\n",
      "Processing Record 28 of Set 11 | zabid\n",
      "Processing Record 29 of Set 11 | amuntai\n",
      "Processing Record 30 of Set 11 | petropavlovsk-kamchatskiy\n",
      "Processing Record 31 of Set 11 | wynyard\n",
      "Processing Record 32 of Set 11 | garmsar\n",
      "Processing Record 33 of Set 11 | smithers\n",
      "Processing Record 34 of Set 11 | ostrovnoy\n",
      "Processing Record 35 of Set 11 | akhalgori\n",
      "Processing Record 36 of Set 11 | baghmara\n",
      "Processing Record 37 of Set 11 | zhicheng\n",
      "Processing Record 38 of Set 11 | ust-ishim\n",
      "Processing Record 39 of Set 11 | siavonga\n",
      "Processing Record 40 of Set 11 | sitka\n",
      "Processing Record 41 of Set 11 | labutta\n",
      "City not found. Skipping...\n",
      "Processing Record 42 of Set 11 | seoul\n",
      "Processing Record 43 of Set 11 | kodiak\n",
      "Processing Record 44 of Set 11 | nuevo laredo\n",
      "Processing Record 45 of Set 11 | chingirlau\n",
      "Processing Record 46 of Set 11 | calca\n",
      "Processing Record 47 of Set 11 | karatuzskoye\n",
      "Processing Record 48 of Set 11 | gostavatu\n",
      "Processing Record 49 of Set 11 | tigre\n",
      "Processing Record 0 of Set 12 | cumberland\n",
      "Processing Record 1 of Set 12 | port macquarie\n",
      "Processing Record 2 of Set 12 | lugovskiy\n",
      "City not found. Skipping...\n",
      "Processing Record 3 of Set 12 | thunder bay\n",
      "Processing Record 4 of Set 12 | kumluca\n",
      "Processing Record 5 of Set 12 | abu samrah\n",
      "Processing Record 6 of Set 12 | nara\n",
      "Processing Record 7 of Set 12 | springfield\n",
      "Processing Record 8 of Set 12 | tokur\n",
      "Processing Record 9 of Set 12 | torit\n",
      "Processing Record 10 of Set 12 | noumea\n",
      "Processing Record 11 of Set 12 | kidal\n",
      "Processing Record 12 of Set 12 | flin flon\n",
      "Processing Record 13 of Set 12 | dashitou\n",
      "Processing Record 14 of Set 12 | yichang\n",
      "Processing Record 15 of Set 12 | bone\n",
      "Processing Record 16 of Set 12 | ghogha\n",
      "Processing Record 17 of Set 12 | riyadh\n",
      "Processing Record 18 of Set 12 | halifax\n",
      "Processing Record 19 of Set 12 | artyk\n",
      "City not found. Skipping...\n",
      "Processing Record 20 of Set 12 | natitingou\n",
      "Processing Record 21 of Set 12 | hinton\n",
      "Processing Record 22 of Set 12 | azuqueca de henares\n",
      "Processing Record 23 of Set 12 | phan thiet\n",
      "Processing Record 24 of Set 12 | revelstoke\n",
      "Processing Record 25 of Set 12 | mitsamiouli\n",
      "Processing Record 26 of Set 12 | mujiayingzi\n",
      "Processing Record 27 of Set 12 | cayenne\n",
      "Processing Record 28 of Set 12 | savannah bight\n",
      "Processing Record 29 of Set 12 | cabedelo\n",
      "Processing Record 30 of Set 12 | montbeliard\n",
      "Processing Record 31 of Set 12 | paramonga\n",
      "Processing Record 32 of Set 12 | baker city\n",
      "Processing Record 33 of Set 12 | abnub\n",
      "Processing Record 34 of Set 12 | ulverstone\n",
      "Processing Record 35 of Set 12 | nandyal\n",
      "Processing Record 36 of Set 12 | suihua\n",
      "Processing Record 37 of Set 12 | nueva guinea\n",
      "Processing Record 38 of Set 12 | coquimbo\n",
      "Processing Record 39 of Set 12 | painesville\n",
      "Processing Record 40 of Set 12 | mocuba\n",
      "Processing Record 41 of Set 12 | wajima\n",
      "Processing Record 42 of Set 12 | marcona\n",
      "City not found. Skipping...\n",
      "Processing Record 43 of Set 12 | allapalli\n",
      "Processing Record 44 of Set 12 | talara\n",
      "Processing Record 45 of Set 12 | nosy varika\n",
      "Processing Record 46 of Set 12 | skibbereen\n",
      "Processing Record 47 of Set 12 | mamallapuram\n",
      "Processing Record 48 of Set 12 | berlevag\n",
      "Processing Record 49 of Set 12 | palivere\n",
      "Processing Record 0 of Set 13 | ginda\n",
      "Processing Record 1 of Set 13 | pierre\n",
      "Processing Record 2 of Set 13 | grand-santi\n",
      "Processing Record 3 of Set 13 | lolua\n",
      "City not found. Skipping...\n",
      "Processing Record 4 of Set 13 | kuytun\n",
      "Processing Record 5 of Set 13 | goderich\n",
      "Processing Record 6 of Set 13 | aranos\n",
      "Processing Record 7 of Set 13 | osorio\n",
      "Processing Record 8 of Set 13 | bambanglipuro\n",
      "-----------------------------\n",
      "Data Retrieval Complete      \n",
      "-----------------------------\n"
     ]
    }
   ],
   "source": [
    "# Loop through all the cities in our list to fetch weather data\n",
    "for i, city in enumerate(cities):\n",
    "\n",
    "    # Group cities in sets of 50 for logging purposes\n",
    "    if (i % 50 == 0 and i >= 50):\n",
    "        set_count +=1\n",
    "        record_count = 0\n",
    "        \n",
    "    # Create endpoint URL with each city\n",
    "    city_url = f\"https://api.openweathermap.org/data/2.5/weather?q={city}&appid={weather_api_key}&units=metric\"\n",
    "\n",
    "    # Log the url, record, and set numbers\n",
    "    print(\"Processing Record %s of Set %s | %s\" % (record_count, set_count, city))\n",
    "\n",
    "    # Add 1 to the record count\n",
    "    record_count += 1\n",
    "\n",
    "    # Run an API request for each of the cities\n",
    "    try:\n",
    "        # Parse the JSON and retrieve data\n",
    "        city_weather = requests.get(city_url).json()\n",
    "\n",
    "        # Parse out latitude, longitude, max temp, humidity, cloudiness, wind speed, country, and date\n",
    "        city_lat = city_weather[\"coord\"][\"lat\"]\n",
    "        city_lng = city_weather[\"coord\"][\"lon\"]\n",
    "        city_max_temp = city_weather[\"main\"][\"temp_max\"]\n",
    "        city_humidity = city_weather[\"main\"][\"humidity\"]\n",
    "        city_clouds = city_weather[\"clouds\"][\"all\"]\n",
    "        city_wind = city_weather[\"wind\"][\"speed\"]\n",
    "        city_country = city_weather[\"sys\"][\"country\"]\n",
    "        city_date = city_weather[\"dt\"]\n",
    "\n",
    "        # Append the City information into city_data list\n",
    "        city_data.append({\"City\": city, \n",
    "                          \"Lat\": city_lat, \n",
    "                          \"Lng\": city_lng, \n",
    "                          \"Max Temp\": city_max_temp,\n",
    "                          \"Humidity\": city_humidity,\n",
    "                          \"Cloudiness\": city_clouds,\n",
    "                          \"Wind Speed\": city_wind,\n",
    "                          \"Country\": city_country,\n",
    "                          \"Date\": city_date})\n",
    "                          \n",
    "    except:\n",
    "        print(\"City not found. Skipping...\")\n",
    "\n",
    "# Indicate that Data Loading is complete \n",
    "print(\"-----------------------------\")\n",
    "print(\"Data Retrieval Complete      \")\n",
    "print(\"-----------------------------\")"
   ]
  },
  {
   "cell_type": "code",
   "execution_count": 6,
   "metadata": {},
   "outputs": [
    {
     "data": {
      "text/plain": [
       "City          564\n",
       "Lat           564\n",
       "Lng           564\n",
       "Max Temp      564\n",
       "Humidity      564\n",
       "Cloudiness    564\n",
       "Wind Speed    564\n",
       "Country       564\n",
       "Date          564\n",
       "dtype: int64"
      ]
     },
     "execution_count": 6,
     "metadata": {},
     "output_type": "execute_result"
    }
   ],
   "source": [
    "# Convert the cities weather data into a Pandas DataFrame\n",
    "city_data_df = pd.DataFrame(city_data)\n",
    "city_data_df.count()\n"
   ]
  },
  {
   "cell_type": "code",
   "execution_count": 7,
   "metadata": {},
   "outputs": [
    {
     "data": {
      "text/html": [
       "<div>\n",
       "<style scoped>\n",
       "    .dataframe tbody tr th:only-of-type {\n",
       "        vertical-align: middle;\n",
       "    }\n",
       "\n",
       "    .dataframe tbody tr th {\n",
       "        vertical-align: top;\n",
       "    }\n",
       "\n",
       "    .dataframe thead th {\n",
       "        text-align: right;\n",
       "    }\n",
       "</style>\n",
       "<table border=\"1\" class=\"dataframe\">\n",
       "  <thead>\n",
       "    <tr style=\"text-align: right;\">\n",
       "      <th></th>\n",
       "      <th>City</th>\n",
       "      <th>Lat</th>\n",
       "      <th>Lng</th>\n",
       "      <th>Max Temp</th>\n",
       "      <th>Humidity</th>\n",
       "      <th>Cloudiness</th>\n",
       "      <th>Wind Speed</th>\n",
       "      <th>Country</th>\n",
       "      <th>Date</th>\n",
       "    </tr>\n",
       "  </thead>\n",
       "  <tbody>\n",
       "    <tr>\n",
       "      <th>0</th>\n",
       "      <td>albany</td>\n",
       "      <td>42.6001</td>\n",
       "      <td>-73.9662</td>\n",
       "      <td>7.19</td>\n",
       "      <td>49</td>\n",
       "      <td>100</td>\n",
       "      <td>1.34</td>\n",
       "      <td>US</td>\n",
       "      <td>1670265341</td>\n",
       "    </tr>\n",
       "    <tr>\n",
       "      <th>1</th>\n",
       "      <td>saltpond</td>\n",
       "      <td>5.2091</td>\n",
       "      <td>-1.0606</td>\n",
       "      <td>26.63</td>\n",
       "      <td>85</td>\n",
       "      <td>80</td>\n",
       "      <td>4.08</td>\n",
       "      <td>GH</td>\n",
       "      <td>1670265605</td>\n",
       "    </tr>\n",
       "    <tr>\n",
       "      <th>2</th>\n",
       "      <td>kapaa</td>\n",
       "      <td>22.0752</td>\n",
       "      <td>-159.3190</td>\n",
       "      <td>23.44</td>\n",
       "      <td>90</td>\n",
       "      <td>100</td>\n",
       "      <td>2.06</td>\n",
       "      <td>US</td>\n",
       "      <td>1670265606</td>\n",
       "    </tr>\n",
       "    <tr>\n",
       "      <th>3</th>\n",
       "      <td>rikitea</td>\n",
       "      <td>-23.1203</td>\n",
       "      <td>-134.9692</td>\n",
       "      <td>24.09</td>\n",
       "      <td>81</td>\n",
       "      <td>100</td>\n",
       "      <td>6.02</td>\n",
       "      <td>PF</td>\n",
       "      <td>1670265607</td>\n",
       "    </tr>\n",
       "    <tr>\n",
       "      <th>4</th>\n",
       "      <td>cabo san lucas</td>\n",
       "      <td>22.8909</td>\n",
       "      <td>-109.9124</td>\n",
       "      <td>30.90</td>\n",
       "      <td>60</td>\n",
       "      <td>40</td>\n",
       "      <td>2.06</td>\n",
       "      <td>MX</td>\n",
       "      <td>1670265413</td>\n",
       "    </tr>\n",
       "  </tbody>\n",
       "</table>\n",
       "</div>"
      ],
      "text/plain": [
       "             City      Lat       Lng  Max Temp  Humidity  Cloudiness  \\\n",
       "0          albany  42.6001  -73.9662      7.19        49         100   \n",
       "1        saltpond   5.2091   -1.0606     26.63        85          80   \n",
       "2           kapaa  22.0752 -159.3190     23.44        90         100   \n",
       "3         rikitea -23.1203 -134.9692     24.09        81         100   \n",
       "4  cabo san lucas  22.8909 -109.9124     30.90        60          40   \n",
       "\n",
       "   Wind Speed Country        Date  \n",
       "0        1.34      US  1670265341  \n",
       "1        4.08      GH  1670265605  \n",
       "2        2.06      US  1670265606  \n",
       "3        6.02      PF  1670265607  \n",
       "4        2.06      MX  1670265413  "
      ]
     },
     "execution_count": 7,
     "metadata": {},
     "output_type": "execute_result"
    }
   ],
   "source": [
    "city_data_df.head()"
   ]
  },
  {
   "cell_type": "code",
   "execution_count": 8,
   "metadata": {},
   "outputs": [],
   "source": [
    "# Export the city data frame into a csv\n",
    "city_data_df.to_csv(\"output_data/cities.csv\", index_label=\"City_ID\")"
   ]
  },
  {
   "cell_type": "code",
   "execution_count": 9,
   "metadata": {},
   "outputs": [
    {
     "data": {
      "text/html": [
       "<div>\n",
       "<style scoped>\n",
       "    .dataframe tbody tr th:only-of-type {\n",
       "        vertical-align: middle;\n",
       "    }\n",
       "\n",
       "    .dataframe tbody tr th {\n",
       "        vertical-align: top;\n",
       "    }\n",
       "\n",
       "    .dataframe thead th {\n",
       "        text-align: right;\n",
       "    }\n",
       "</style>\n",
       "<table border=\"1\" class=\"dataframe\">\n",
       "  <thead>\n",
       "    <tr style=\"text-align: right;\">\n",
       "      <th></th>\n",
       "      <th>City</th>\n",
       "      <th>Lat</th>\n",
       "      <th>Lng</th>\n",
       "      <th>Max Temp</th>\n",
       "      <th>Humidity</th>\n",
       "      <th>Cloudiness</th>\n",
       "      <th>Wind Speed</th>\n",
       "      <th>Country</th>\n",
       "      <th>Date</th>\n",
       "    </tr>\n",
       "    <tr>\n",
       "      <th>City_ID</th>\n",
       "      <th></th>\n",
       "      <th></th>\n",
       "      <th></th>\n",
       "      <th></th>\n",
       "      <th></th>\n",
       "      <th></th>\n",
       "      <th></th>\n",
       "      <th></th>\n",
       "      <th></th>\n",
       "    </tr>\n",
       "  </thead>\n",
       "  <tbody>\n",
       "    <tr>\n",
       "      <th>0</th>\n",
       "      <td>albany</td>\n",
       "      <td>42.6001</td>\n",
       "      <td>-73.9662</td>\n",
       "      <td>7.19</td>\n",
       "      <td>49</td>\n",
       "      <td>100</td>\n",
       "      <td>1.34</td>\n",
       "      <td>US</td>\n",
       "      <td>1670265341</td>\n",
       "    </tr>\n",
       "    <tr>\n",
       "      <th>1</th>\n",
       "      <td>saltpond</td>\n",
       "      <td>5.2091</td>\n",
       "      <td>-1.0606</td>\n",
       "      <td>26.63</td>\n",
       "      <td>85</td>\n",
       "      <td>80</td>\n",
       "      <td>4.08</td>\n",
       "      <td>GH</td>\n",
       "      <td>1670265605</td>\n",
       "    </tr>\n",
       "    <tr>\n",
       "      <th>2</th>\n",
       "      <td>kapaa</td>\n",
       "      <td>22.0752</td>\n",
       "      <td>-159.3190</td>\n",
       "      <td>23.44</td>\n",
       "      <td>90</td>\n",
       "      <td>100</td>\n",
       "      <td>2.06</td>\n",
       "      <td>US</td>\n",
       "      <td>1670265606</td>\n",
       "    </tr>\n",
       "    <tr>\n",
       "      <th>3</th>\n",
       "      <td>rikitea</td>\n",
       "      <td>-23.1203</td>\n",
       "      <td>-134.9692</td>\n",
       "      <td>24.09</td>\n",
       "      <td>81</td>\n",
       "      <td>100</td>\n",
       "      <td>6.02</td>\n",
       "      <td>PF</td>\n",
       "      <td>1670265607</td>\n",
       "    </tr>\n",
       "    <tr>\n",
       "      <th>4</th>\n",
       "      <td>cabo san lucas</td>\n",
       "      <td>22.8909</td>\n",
       "      <td>-109.9124</td>\n",
       "      <td>30.90</td>\n",
       "      <td>60</td>\n",
       "      <td>40</td>\n",
       "      <td>2.06</td>\n",
       "      <td>MX</td>\n",
       "      <td>1670265413</td>\n",
       "    </tr>\n",
       "  </tbody>\n",
       "</table>\n",
       "</div>"
      ],
      "text/plain": [
       "                   City      Lat       Lng  Max Temp  Humidity  Cloudiness  \\\n",
       "City_ID                                                                      \n",
       "0                albany  42.6001  -73.9662      7.19        49         100   \n",
       "1              saltpond   5.2091   -1.0606     26.63        85          80   \n",
       "2                 kapaa  22.0752 -159.3190     23.44        90         100   \n",
       "3               rikitea -23.1203 -134.9692     24.09        81         100   \n",
       "4        cabo san lucas  22.8909 -109.9124     30.90        60          40   \n",
       "\n",
       "         Wind Speed Country        Date  \n",
       "City_ID                                  \n",
       "0              1.34      US  1670265341  \n",
       "1              4.08      GH  1670265605  \n",
       "2              2.06      US  1670265606  \n",
       "3              6.02      PF  1670265607  \n",
       "4              2.06      MX  1670265413  "
      ]
     },
     "execution_count": 9,
     "metadata": {},
     "output_type": "execute_result"
    }
   ],
   "source": [
    "# Read saved data\n",
    "city_data_df = pd.read_csv(\"output_data/cities.csv\", index_col=\"City_ID\")\n",
    "\n",
    "# Display sample data\n",
    "city_data_df.head()"
   ]
  },
  {
   "cell_type": "markdown",
   "metadata": {},
   "source": [
    "## Scatter Plots"
   ]
  },
  {
   "cell_type": "markdown",
   "metadata": {},
   "source": [
    "### a. Latitude vs. Temperature"
   ]
  },
  {
   "cell_type": "code",
   "execution_count": 10,
   "metadata": {},
   "outputs": [
    {
     "data": {
      "text/html": [
       "<div>\n",
       "<style scoped>\n",
       "    .dataframe tbody tr th:only-of-type {\n",
       "        vertical-align: middle;\n",
       "    }\n",
       "\n",
       "    .dataframe tbody tr th {\n",
       "        vertical-align: top;\n",
       "    }\n",
       "\n",
       "    .dataframe thead th {\n",
       "        text-align: right;\n",
       "    }\n",
       "</style>\n",
       "<table border=\"1\" class=\"dataframe\">\n",
       "  <thead>\n",
       "    <tr style=\"text-align: right;\">\n",
       "      <th></th>\n",
       "      <th>Lat</th>\n",
       "      <th>Max Temp</th>\n",
       "    </tr>\n",
       "    <tr>\n",
       "      <th>City_ID</th>\n",
       "      <th></th>\n",
       "      <th></th>\n",
       "    </tr>\n",
       "  </thead>\n",
       "  <tbody>\n",
       "    <tr>\n",
       "      <th>0</th>\n",
       "      <td>42.6001</td>\n",
       "      <td>7.19</td>\n",
       "    </tr>\n",
       "    <tr>\n",
       "      <th>1</th>\n",
       "      <td>5.2091</td>\n",
       "      <td>26.63</td>\n",
       "    </tr>\n",
       "    <tr>\n",
       "      <th>2</th>\n",
       "      <td>22.0752</td>\n",
       "      <td>23.44</td>\n",
       "    </tr>\n",
       "    <tr>\n",
       "      <th>3</th>\n",
       "      <td>-23.1203</td>\n",
       "      <td>24.09</td>\n",
       "    </tr>\n",
       "    <tr>\n",
       "      <th>4</th>\n",
       "      <td>22.8909</td>\n",
       "      <td>30.90</td>\n",
       "    </tr>\n",
       "    <tr>\n",
       "      <th>...</th>\n",
       "      <td>...</td>\n",
       "      <td>...</td>\n",
       "    </tr>\n",
       "    <tr>\n",
       "      <th>559</th>\n",
       "      <td>54.3419</td>\n",
       "      <td>-10.44</td>\n",
       "    </tr>\n",
       "    <tr>\n",
       "      <th>560</th>\n",
       "      <td>43.7501</td>\n",
       "      <td>4.39</td>\n",
       "    </tr>\n",
       "    <tr>\n",
       "      <th>561</th>\n",
       "      <td>-24.1333</td>\n",
       "      <td>25.51</td>\n",
       "    </tr>\n",
       "    <tr>\n",
       "      <th>562</th>\n",
       "      <td>-29.8867</td>\n",
       "      <td>24.27</td>\n",
       "    </tr>\n",
       "    <tr>\n",
       "      <th>563</th>\n",
       "      <td>-7.9500</td>\n",
       "      <td>24.62</td>\n",
       "    </tr>\n",
       "  </tbody>\n",
       "</table>\n",
       "<p>564 rows × 2 columns</p>\n",
       "</div>"
      ],
      "text/plain": [
       "             Lat  Max Temp\n",
       "City_ID                   \n",
       "0        42.6001      7.19\n",
       "1         5.2091     26.63\n",
       "2        22.0752     23.44\n",
       "3       -23.1203     24.09\n",
       "4        22.8909     30.90\n",
       "...          ...       ...\n",
       "559      54.3419    -10.44\n",
       "560      43.7501      4.39\n",
       "561     -24.1333     25.51\n",
       "562     -29.8867     24.27\n",
       "563      -7.9500     24.62\n",
       "\n",
       "[564 rows x 2 columns]"
      ]
     },
     "execution_count": 10,
     "metadata": {},
     "output_type": "execute_result"
    }
   ],
   "source": [
    "# Build the dataframe to store the latitudes and temperatures for each city\n",
    "lat_temp_df = city_data_df.loc[:, [\"Lat\", \"Max Temp\"]]\n",
    "lat_temp_df"
   ]
  },
  {
   "cell_type": "code",
   "execution_count": 11,
   "metadata": {},
   "outputs": [
    {
     "data": {
      "image/png": "[encoded data removed]",
      "text/plain": [
       "<Figure size 432x288 with 1 Axes>"
      ]
     },
     "metadata": {
      "needs_background": "light"
     },
     "output_type": "display_data"
    }
   ],
   "source": [
    "# Build Scatterplot\n",
    "lat_temp_df.plot.scatter(\"Lat\", \"Max Temp\")\n",
    "plt.xlabel(\"Latitude\")\n",
    "plt.ylabel(\"Max Temperature (C)\")\n",
    "plt.title(\"City Latitude vs. Max Temperature\")\n",
    "plt.grid()\n"
   ]
  },
  {
   "cell_type": "code",
   "execution_count": 12,
   "metadata": {},
   "outputs": [
    {
     "data": {
      "text/plain": [
       "<Figure size 432x288 with 0 Axes>"
      ]
     },
     "metadata": {},
     "output_type": "display_data"
    }
   ],
   "source": [
    "\n",
    "# Save the figure\n",
    "plt.savefig(\"output_data/Fig1.png\")"
   ]
  },
  {
   "cell_type": "markdown",
   "metadata": {},
   "source": [
    "### b. Latitude vs. Humidity"
   ]
  },
  {
   "cell_type": "code",
   "execution_count": 13,
   "metadata": {},
   "outputs": [],
   "source": [
    "# Build the dataframe to hold latitude and humidity for each city\n",
    "lat_humid_df = city_data_df.loc[:,[\"Lat\", \"Humidity\"]]"
   ]
  },
  {
   "cell_type": "code",
   "execution_count": 14,
   "metadata": {},
   "outputs": [
    {
     "data": {
      "image/png": "[encoded data removed]",
      "text/plain": [
       "<Figure size 432x288 with 1 Axes>"
      ]
     },
     "metadata": {
      "needs_background": "light"
     },
     "output_type": "display_data"
    }
   ],
   "source": [
    "lat_humid_df.plot.scatter(\"Lat\", \"Humidity\")\n",
    "plt.xlabel(\"Latitude\")\n",
    "plt.ylabel(\"Humidity %\")\n",
    "plt.title(\"City Latitude vs. Humidity\")\n",
    "plt.grid()"
   ]
  },
  {
   "cell_type": "code",
   "execution_count": 15,
   "metadata": {},
   "outputs": [
    {
     "data": {
      "text/plain": [
       "<Figure size 432x288 with 0 Axes>"
      ]
     },
     "metadata": {},
     "output_type": "display_data"
    }
   ],
   "source": [
    "# Save the figure\n",
    "plt.savefig(\"output_data/Fig2.png\")"
   ]
  },
  {
   "cell_type": "markdown",
   "metadata": {},
   "source": [
    "### c. Latitude vs. Cloudiness"
   ]
  },
  {
   "cell_type": "code",
   "execution_count": 16,
   "metadata": {},
   "outputs": [],
   "source": [
    "# Build the dataframe to hold latitude and humidity for each city\n",
    "lat_cloud_df = city_data_df.loc[:,[\"Lat\", \"Cloudiness\"]]"
   ]
  },
  {
   "cell_type": "code",
   "execution_count": 17,
   "metadata": {},
   "outputs": [
    {
     "data": {
      "image/png": "[encoded data removed]",
      "text/plain": [
       "<Figure size 432x288 with 1 Axes>"
      ]
     },
     "metadata": {
      "needs_background": "light"
     },
     "output_type": "display_data"
    }
   ],
   "source": [
    "# Build Scatterplot\n",
    "lat_cloud_df.plot.scatter(\"Lat\", \"Cloudiness\")\n",
    "plt.xlabel(\"Latitude\")\n",
    "plt.ylabel(\"Cloudiness (%)\")\n",
    "plt.title(\"City Latitude vs. Cloudiness\")\n",
    "plt.grid()"
   ]
  },
  {
   "cell_type": "code",
   "execution_count": 18,
   "metadata": {},
   "outputs": [
    {
     "data": {
      "text/plain": [
       "<Figure size 432x288 with 0 Axes>"
      ]
     },
     "metadata": {},
     "output_type": "display_data"
    }
   ],
   "source": [
    "# Save the figure\n",
    "plt.savefig(\"output_data/Fig3.png\")"
   ]
  },
  {
   "cell_type": "markdown",
   "metadata": {},
   "source": [
    "### d. Latitude vs. Wind Speed "
   ]
  },
  {
   "cell_type": "code",
   "execution_count": 19,
   "metadata": {},
   "outputs": [],
   "source": [
    "# Build the dataframe to hold latitude and humidity for each city\n",
    "lat_wind_df = city_data_df.loc[:,[\"Lat\", \"Wind Speed\"]]"
   ]
  },
  {
   "cell_type": "code",
   "execution_count": 20,
   "metadata": {},
   "outputs": [
    {
     "data": {
      "image/png": "[encoded data removed]",
      "text/plain": [
       "<Figure size 432x288 with 1 Axes>"
      ]
     },
     "metadata": {
      "needs_background": "light"
     },
     "output_type": "display_data"
    }
   ],
   "source": [
    "# Build Scatter plot\n",
    "lat_wind_df.plot.scatter(\"Lat\", \"Wind Speed\")\n",
    "plt.xlabel(\"Latitude\")\n",
    "plt.ylabel(\"Wind Speed (m/s)\")\n",
    "plt.title(\"City Latitude vs. Wind Speed\")\n",
    "plt.grid()"
   ]
  },
  {
   "cell_type": "code",
   "execution_count": 21,
   "metadata": {},
   "outputs": [
    {
     "data": {
      "text/plain": [
       "<Figure size 432x288 with 0 Axes>"
      ]
     },
     "metadata": {},
     "output_type": "display_data"
    }
   ],
   "source": [
    "# Save the figure\n",
    "plt.savefig(\"output_data/Fig4.png\")"
   ]
  },
  {
   "cell_type": "markdown",
   "metadata": {},
   "source": [
    "# Requirement 2: Compute Linear Regression for Each Relationship"
   ]
  },
  {
   "cell_type": "markdown",
   "metadata": {},
   "source": [
    "## Function to create linear regression plots"
   ]
  },
  {
   "cell_type": "code",
   "execution_count": 22,
   "metadata": {},
   "outputs": [],
   "source": [
    "# Write Function for Linear Regression\n",
    "def linreg(x_values, y_values):\n",
    "    (slope, intercept, rvalue, pvalue, stderr) = linregress(x_values, y_values)\n",
    "    \n",
    "    regress_values = [float(slope)*x_values[i]+intercept for i in range(len(x_values))]\n",
    "    \n",
    "    line_eq = \"y = \" + str(round(slope,2)) + \"x + \" + str(round(intercept,2))       #Getting ready to write the equation on the graph\n",
    "\n",
    "    plt.scatter(x_values,y_values)          #Create scatter plot \n",
    "    plt.plot(x_values,regress_values,\"b-\")      # Plotting red line\n",
    "    plt.xlabel(\"Latitude\")\n",
    "    \n",
    "    print(f\"The r value is: {rvalue}\")\n",
    "\n",
    "    return line_eq\n",
    "    \n"
   ]
  },
  {
   "cell_type": "markdown",
   "metadata": {},
   "source": [
    "## Divide DataFrame by Hemisphere"
   ]
  },
  {
   "cell_type": "code",
   "execution_count": 23,
   "metadata": {},
   "outputs": [
    {
     "data": {
      "text/html": [
       "<div>\n",
       "<style scoped>\n",
       "    .dataframe tbody tr th:only-of-type {\n",
       "        vertical-align: middle;\n",
       "    }\n",
       "\n",
       "    .dataframe tbody tr th {\n",
       "        vertical-align: top;\n",
       "    }\n",
       "\n",
       "    .dataframe thead th {\n",
       "        text-align: right;\n",
       "    }\n",
       "</style>\n",
       "<table border=\"1\" class=\"dataframe\">\n",
       "  <thead>\n",
       "    <tr style=\"text-align: right;\">\n",
       "      <th></th>\n",
       "      <th>City</th>\n",
       "      <th>Lat</th>\n",
       "      <th>Lng</th>\n",
       "      <th>Max Temp</th>\n",
       "      <th>Humidity</th>\n",
       "      <th>Cloudiness</th>\n",
       "      <th>Wind Speed</th>\n",
       "      <th>Country</th>\n",
       "      <th>Date</th>\n",
       "    </tr>\n",
       "    <tr>\n",
       "      <th>City_ID</th>\n",
       "      <th></th>\n",
       "      <th></th>\n",
       "      <th></th>\n",
       "      <th></th>\n",
       "      <th></th>\n",
       "      <th></th>\n",
       "      <th></th>\n",
       "      <th></th>\n",
       "      <th></th>\n",
       "    </tr>\n",
       "  </thead>\n",
       "  <tbody>\n",
       "    <tr>\n",
       "      <th>0</th>\n",
       "      <td>albany</td>\n",
       "      <td>42.6001</td>\n",
       "      <td>-73.9662</td>\n",
       "      <td>7.19</td>\n",
       "      <td>49</td>\n",
       "      <td>100</td>\n",
       "      <td>1.34</td>\n",
       "      <td>US</td>\n",
       "      <td>1670265341</td>\n",
       "    </tr>\n",
       "    <tr>\n",
       "      <th>1</th>\n",
       "      <td>saltpond</td>\n",
       "      <td>5.2091</td>\n",
       "      <td>-1.0606</td>\n",
       "      <td>26.63</td>\n",
       "      <td>85</td>\n",
       "      <td>80</td>\n",
       "      <td>4.08</td>\n",
       "      <td>GH</td>\n",
       "      <td>1670265605</td>\n",
       "    </tr>\n",
       "    <tr>\n",
       "      <th>2</th>\n",
       "      <td>kapaa</td>\n",
       "      <td>22.0752</td>\n",
       "      <td>-159.3190</td>\n",
       "      <td>23.44</td>\n",
       "      <td>90</td>\n",
       "      <td>100</td>\n",
       "      <td>2.06</td>\n",
       "      <td>US</td>\n",
       "      <td>1670265606</td>\n",
       "    </tr>\n",
       "    <tr>\n",
       "      <th>4</th>\n",
       "      <td>cabo san lucas</td>\n",
       "      <td>22.8909</td>\n",
       "      <td>-109.9124</td>\n",
       "      <td>30.90</td>\n",
       "      <td>60</td>\n",
       "      <td>40</td>\n",
       "      <td>2.06</td>\n",
       "      <td>MX</td>\n",
       "      <td>1670265413</td>\n",
       "    </tr>\n",
       "    <tr>\n",
       "      <th>5</th>\n",
       "      <td>qaanaaq</td>\n",
       "      <td>77.4840</td>\n",
       "      <td>-69.3632</td>\n",
       "      <td>-1.85</td>\n",
       "      <td>88</td>\n",
       "      <td>100</td>\n",
       "      <td>6.88</td>\n",
       "      <td>GL</td>\n",
       "      <td>1670265608</td>\n",
       "    </tr>\n",
       "    <tr>\n",
       "      <th>...</th>\n",
       "      <td>...</td>\n",
       "      <td>...</td>\n",
       "      <td>...</td>\n",
       "      <td>...</td>\n",
       "      <td>...</td>\n",
       "      <td>...</td>\n",
       "      <td>...</td>\n",
       "      <td>...</td>\n",
       "      <td>...</td>\n",
       "    </tr>\n",
       "    <tr>\n",
       "      <th>556</th>\n",
       "      <td>ginda</td>\n",
       "      <td>30.6945</td>\n",
       "      <td>78.4932</td>\n",
       "      <td>7.39</td>\n",
       "      <td>17</td>\n",
       "      <td>52</td>\n",
       "      <td>3.41</td>\n",
       "      <td>IN</td>\n",
       "      <td>1670265933</td>\n",
       "    </tr>\n",
       "    <tr>\n",
       "      <th>557</th>\n",
       "      <td>pierre</td>\n",
       "      <td>44.3683</td>\n",
       "      <td>-100.3510</td>\n",
       "      <td>-5.08</td>\n",
       "      <td>84</td>\n",
       "      <td>100</td>\n",
       "      <td>7.15</td>\n",
       "      <td>US</td>\n",
       "      <td>1670265934</td>\n",
       "    </tr>\n",
       "    <tr>\n",
       "      <th>558</th>\n",
       "      <td>grand-santi</td>\n",
       "      <td>4.2500</td>\n",
       "      <td>-54.3833</td>\n",
       "      <td>29.82</td>\n",
       "      <td>54</td>\n",
       "      <td>100</td>\n",
       "      <td>1.37</td>\n",
       "      <td>GF</td>\n",
       "      <td>1670265935</td>\n",
       "    </tr>\n",
       "    <tr>\n",
       "      <th>559</th>\n",
       "      <td>kuytun</td>\n",
       "      <td>54.3419</td>\n",
       "      <td>101.5036</td>\n",
       "      <td>-10.44</td>\n",
       "      <td>65</td>\n",
       "      <td>100</td>\n",
       "      <td>7.57</td>\n",
       "      <td>RU</td>\n",
       "      <td>1670265743</td>\n",
       "    </tr>\n",
       "    <tr>\n",
       "      <th>560</th>\n",
       "      <td>goderich</td>\n",
       "      <td>43.7501</td>\n",
       "      <td>-81.7165</td>\n",
       "      <td>4.39</td>\n",
       "      <td>60</td>\n",
       "      <td>100</td>\n",
       "      <td>7.20</td>\n",
       "      <td>CA</td>\n",
       "      <td>1670265934</td>\n",
       "    </tr>\n",
       "  </tbody>\n",
       "</table>\n",
       "<p>385 rows × 9 columns</p>\n",
       "</div>"
      ],
      "text/plain": [
       "                   City      Lat       Lng  Max Temp  Humidity  Cloudiness  \\\n",
       "City_ID                                                                      \n",
       "0                albany  42.6001  -73.9662      7.19        49         100   \n",
       "1              saltpond   5.2091   -1.0606     26.63        85          80   \n",
       "2                 kapaa  22.0752 -159.3190     23.44        90         100   \n",
       "4        cabo san lucas  22.8909 -109.9124     30.90        60          40   \n",
       "5               qaanaaq  77.4840  -69.3632     -1.85        88         100   \n",
       "...                 ...      ...       ...       ...       ...         ...   \n",
       "556               ginda  30.6945   78.4932      7.39        17          52   \n",
       "557              pierre  44.3683 -100.3510     -5.08        84         100   \n",
       "558         grand-santi   4.2500  -54.3833     29.82        54         100   \n",
       "559              kuytun  54.3419  101.5036    -10.44        65         100   \n",
       "560            goderich  43.7501  -81.7165      4.39        60         100   \n",
       "\n",
       "         Wind Speed Country        Date  \n",
       "City_ID                                  \n",
       "0              1.34      US  1670265341  \n",
       "1              4.08      GH  1670265605  \n",
       "2              2.06      US  1670265606  \n",
       "4              2.06      MX  1670265413  \n",
       "5              6.88      GL  1670265608  \n",
       "...             ...     ...         ...  \n",
       "556            3.41      IN  1670265933  \n",
       "557            7.15      US  1670265934  \n",
       "558            1.37      GF  1670265935  \n",
       "559            7.57      RU  1670265743  \n",
       "560            7.20      CA  1670265934  \n",
       "\n",
       "[385 rows x 9 columns]"
      ]
     },
     "execution_count": 23,
     "metadata": {},
     "output_type": "execute_result"
    }
   ],
   "source": [
    "# Create a DataFrame with the Northern Hemisphere data (Latitude >= 0)\n",
    "N_hemi_df = city_data_df.loc[city_data_df[\"Lat\"] >= 0, :]\n",
    "\n",
    "N_hemi_df"
   ]
  },
  {
   "cell_type": "code",
   "execution_count": 24,
   "metadata": {},
   "outputs": [
    {
     "data": {
      "text/html": [
       "<div>\n",
       "<style scoped>\n",
       "    .dataframe tbody tr th:only-of-type {\n",
       "        vertical-align: middle;\n",
       "    }\n",
       "\n",
       "    .dataframe tbody tr th {\n",
       "        vertical-align: top;\n",
       "    }\n",
       "\n",
       "    .dataframe thead th {\n",
       "        text-align: right;\n",
       "    }\n",
       "</style>\n",
       "<table border=\"1\" class=\"dataframe\">\n",
       "  <thead>\n",
       "    <tr style=\"text-align: right;\">\n",
       "      <th></th>\n",
       "      <th>City</th>\n",
       "      <th>Lat</th>\n",
       "      <th>Lng</th>\n",
       "      <th>Max Temp</th>\n",
       "      <th>Humidity</th>\n",
       "      <th>Cloudiness</th>\n",
       "      <th>Wind Speed</th>\n",
       "      <th>Country</th>\n",
       "      <th>Date</th>\n",
       "    </tr>\n",
       "    <tr>\n",
       "      <th>City_ID</th>\n",
       "      <th></th>\n",
       "      <th></th>\n",
       "      <th></th>\n",
       "      <th></th>\n",
       "      <th></th>\n",
       "      <th></th>\n",
       "      <th></th>\n",
       "      <th></th>\n",
       "      <th></th>\n",
       "    </tr>\n",
       "  </thead>\n",
       "  <tbody>\n",
       "    <tr>\n",
       "      <th>3</th>\n",
       "      <td>rikitea</td>\n",
       "      <td>-23.1203</td>\n",
       "      <td>-134.9692</td>\n",
       "      <td>24.09</td>\n",
       "      <td>81</td>\n",
       "      <td>100</td>\n",
       "      <td>6.02</td>\n",
       "      <td>PF</td>\n",
       "      <td>1670265607</td>\n",
       "    </tr>\n",
       "    <tr>\n",
       "      <th>6</th>\n",
       "      <td>port-gentil</td>\n",
       "      <td>-0.7193</td>\n",
       "      <td>8.7815</td>\n",
       "      <td>27.98</td>\n",
       "      <td>83</td>\n",
       "      <td>40</td>\n",
       "      <td>4.63</td>\n",
       "      <td>GA</td>\n",
       "      <td>1670265609</td>\n",
       "    </tr>\n",
       "    <tr>\n",
       "      <th>7</th>\n",
       "      <td>port alfred</td>\n",
       "      <td>-33.5906</td>\n",
       "      <td>26.8910</td>\n",
       "      <td>15.66</td>\n",
       "      <td>90</td>\n",
       "      <td>0</td>\n",
       "      <td>0.89</td>\n",
       "      <td>ZA</td>\n",
       "      <td>1670265610</td>\n",
       "    </tr>\n",
       "    <tr>\n",
       "      <th>8</th>\n",
       "      <td>san carlos de bariloche</td>\n",
       "      <td>-41.1456</td>\n",
       "      <td>-71.3082</td>\n",
       "      <td>19.86</td>\n",
       "      <td>32</td>\n",
       "      <td>20</td>\n",
       "      <td>12.86</td>\n",
       "      <td>AR</td>\n",
       "      <td>1670265491</td>\n",
       "    </tr>\n",
       "    <tr>\n",
       "      <th>13</th>\n",
       "      <td>puerto ayora</td>\n",
       "      <td>-0.7393</td>\n",
       "      <td>-90.3518</td>\n",
       "      <td>26.98</td>\n",
       "      <td>86</td>\n",
       "      <td>70</td>\n",
       "      <td>2.24</td>\n",
       "      <td>EC</td>\n",
       "      <td>1670265613</td>\n",
       "    </tr>\n",
       "    <tr>\n",
       "      <th>...</th>\n",
       "      <td>...</td>\n",
       "      <td>...</td>\n",
       "      <td>...</td>\n",
       "      <td>...</td>\n",
       "      <td>...</td>\n",
       "      <td>...</td>\n",
       "      <td>...</td>\n",
       "      <td>...</td>\n",
       "      <td>...</td>\n",
       "    </tr>\n",
       "    <tr>\n",
       "      <th>550</th>\n",
       "      <td>talara</td>\n",
       "      <td>-4.5772</td>\n",
       "      <td>-81.2719</td>\n",
       "      <td>28.42</td>\n",
       "      <td>57</td>\n",
       "      <td>0</td>\n",
       "      <td>6.69</td>\n",
       "      <td>PE</td>\n",
       "      <td>1670265930</td>\n",
       "    </tr>\n",
       "    <tr>\n",
       "      <th>551</th>\n",
       "      <td>nosy varika</td>\n",
       "      <td>-20.5833</td>\n",
       "      <td>48.5333</td>\n",
       "      <td>23.92</td>\n",
       "      <td>87</td>\n",
       "      <td>100</td>\n",
       "      <td>3.21</td>\n",
       "      <td>MG</td>\n",
       "      <td>1670265931</td>\n",
       "    </tr>\n",
       "    <tr>\n",
       "      <th>561</th>\n",
       "      <td>aranos</td>\n",
       "      <td>-24.1333</td>\n",
       "      <td>19.1167</td>\n",
       "      <td>25.51</td>\n",
       "      <td>11</td>\n",
       "      <td>0</td>\n",
       "      <td>3.59</td>\n",
       "      <td>NaN</td>\n",
       "      <td>1670265937</td>\n",
       "    </tr>\n",
       "    <tr>\n",
       "      <th>562</th>\n",
       "      <td>osorio</td>\n",
       "      <td>-29.8867</td>\n",
       "      <td>-50.2697</td>\n",
       "      <td>24.27</td>\n",
       "      <td>81</td>\n",
       "      <td>92</td>\n",
       "      <td>2.92</td>\n",
       "      <td>BR</td>\n",
       "      <td>1670265785</td>\n",
       "    </tr>\n",
       "    <tr>\n",
       "      <th>563</th>\n",
       "      <td>bambanglipuro</td>\n",
       "      <td>-7.9500</td>\n",
       "      <td>110.2833</td>\n",
       "      <td>24.62</td>\n",
       "      <td>90</td>\n",
       "      <td>100</td>\n",
       "      <td>1.38</td>\n",
       "      <td>ID</td>\n",
       "      <td>1670265938</td>\n",
       "    </tr>\n",
       "  </tbody>\n",
       "</table>\n",
       "<p>179 rows × 9 columns</p>\n",
       "</div>"
      ],
      "text/plain": [
       "                            City      Lat       Lng  Max Temp  Humidity  \\\n",
       "City_ID                                                                   \n",
       "3                        rikitea -23.1203 -134.9692     24.09        81   \n",
       "6                    port-gentil  -0.7193    8.7815     27.98        83   \n",
       "7                    port alfred -33.5906   26.8910     15.66        90   \n",
       "8        san carlos de bariloche -41.1456  -71.3082     19.86        32   \n",
       "13                  puerto ayora  -0.7393  -90.3518     26.98        86   \n",
       "...                          ...      ...       ...       ...       ...   \n",
       "550                       talara  -4.5772  -81.2719     28.42        57   \n",
       "551                  nosy varika -20.5833   48.5333     23.92        87   \n",
       "561                       aranos -24.1333   19.1167     25.51        11   \n",
       "562                       osorio -29.8867  -50.2697     24.27        81   \n",
       "563                bambanglipuro  -7.9500  110.2833     24.62        90   \n",
       "\n",
       "         Cloudiness  Wind Speed Country        Date  \n",
       "City_ID                                              \n",
       "3               100        6.02      PF  1670265607  \n",
       "6                40        4.63      GA  1670265609  \n",
       "7                 0        0.89      ZA  1670265610  \n",
       "8                20       12.86      AR  1670265491  \n",
       "13               70        2.24      EC  1670265613  \n",
       "...             ...         ...     ...         ...  \n",
       "550               0        6.69      PE  1670265930  \n",
       "551             100        3.21      MG  1670265931  \n",
       "561               0        3.59     NaN  1670265937  \n",
       "562              92        2.92      BR  1670265785  \n",
       "563             100        1.38      ID  1670265938  \n",
       "\n",
       "[179 rows x 9 columns]"
      ]
     },
     "execution_count": 24,
     "metadata": {},
     "output_type": "execute_result"
    }
   ],
   "source": [
    "# Create a DataFrame with the Southern Hemisphere data (Latitude < 0)\n",
    "S_hemi_df = city_data_df.loc[city_data_df[\"Lat\"] < 0, :]\n",
    "\n",
    "S_hemi_df"
   ]
  },
  {
   "cell_type": "markdown",
   "metadata": {},
   "source": [
    "## Scatterplots"
   ]
  },
  {
   "cell_type": "markdown",
   "metadata": {},
   "source": [
    "### a. Northern Hemisphere: Temperature vs. Latitude"
   ]
  },
  {
   "cell_type": "code",
   "execution_count": 33,
   "metadata": {},
   "outputs": [
    {
     "name": "stdout",
     "output_type": "stream",
     "text": [
      "The r value is: -0.8594039470825124\n"
     ]
    },
    {
     "data": {
      "text/plain": [
       "Text(0, -30, 'y = -0.75x + 34.89')"
      ]
     },
     "execution_count": 33,
     "metadata": {},
     "output_type": "execute_result"
    },
    {
     "data": {
      "image/png": "[encoded data removed]",
      "text/plain": [
       "<Figure size 432x288 with 1 Axes>"
      ]
     },
     "metadata": {
      "needs_background": "light"
     },
     "output_type": "display_data"
    }
   ],
   "source": [
    "regress_a = linreg(list(N_hemi_df[\"Lat\"]), list(N_hemi_df[\"Max Temp\"]))\n",
    "plt.ylabel(\"Max Temp\")\n",
    "plt.title(\"N Hemisphere: Latitude vs. Temperature\")\n",
    "plt.annotate(regress_a,(0,-30),fontsize=15,color=\"red\") # Graphing the equation on the plot \n"
   ]
  },
  {
   "cell_type": "markdown",
   "metadata": {},
   "source": [
    "### b. Southern Hemisphere: Temperature vs. Latitude"
   ]
  },
  {
   "cell_type": "code",
   "execution_count": 34,
   "metadata": {},
   "outputs": [
    {
     "name": "stdout",
     "output_type": "stream",
     "text": [
      "The r value is: 0.5955823477863598\n"
     ]
    },
    {
     "data": {
      "text/plain": [
       "Text(-30, 10, 'y = 0.28x + 28.22')"
      ]
     },
     "execution_count": 34,
     "metadata": {},
     "output_type": "execute_result"
    },
    {
     "data": {
      "image/png": "[encoded data removed]",
      "text/plain": [
       "<Figure size 432x288 with 1 Axes>"
      ]
     },
     "metadata": {
      "needs_background": "light"
     },
     "output_type": "display_data"
    }
   ],
   "source": [
    "regress_b = linreg(list(S_hemi_df[\"Lat\"]), list(S_hemi_df[\"Max Temp\"]))\n",
    "plt.ylabel(\"Max Temp\")\n",
    "plt.title(\"S Hemisphere: Latitude vs. Temperature\")\n",
    "plt.annotate(regress_b,(-30,10),fontsize=15,color=\"red\") # Graphing the equation on the plot "
   ]
  },
  {
   "cell_type": "markdown",
   "metadata": {},
   "source": [
    "### Discussion about linear relationships between Temperature and Latitude\n",
    "\n",
    "blah blah blah"
   ]
  },
  {
   "cell_type": "markdown",
   "metadata": {},
   "source": [
    "### c. Norther Hemisphere: Humidity vs. Latitude"
   ]
  },
  {
   "cell_type": "code",
   "execution_count": 35,
   "metadata": {},
   "outputs": [
    {
     "name": "stdout",
     "output_type": "stream",
     "text": [
      "The r value is: 0.39033368450426026\n"
     ]
    },
    {
     "data": {
      "text/plain": [
       "Text(40, 20, 'y = 0.41x + 58.47')"
      ]
     },
     "execution_count": 35,
     "metadata": {},
     "output_type": "execute_result"
    },
    {
     "data": {
      "image/png": "[encoded data removed]",
      "text/plain": [
       "<Figure size 432x288 with 1 Axes>"
      ]
     },
     "metadata": {
      "needs_background": "light"
     },
     "output_type": "display_data"
    }
   ],
   "source": [
    "regress_c = linreg(list(N_hemi_df[\"Lat\"]), list(N_hemi_df[\"Humidity\"]))\n",
    "plt.ylabel(\"Max Temp\")\n",
    "plt.title(\"N Hemisphere: Latitude vs. Humidity\")\n",
    "plt.annotate(regress_c,(40,20),fontsize=15,color=\"red\") # Graphing the equation on the plot "
   ]
  },
  {
   "cell_type": "markdown",
   "metadata": {},
   "source": [
    "### d. Southern Hemisphere: Humidity vs. Latitude"
   ]
  },
  {
   "cell_type": "code",
   "execution_count": 39,
   "metadata": {},
   "outputs": [
    {
     "name": "stdout",
     "output_type": "stream",
     "text": [
      "The r value is: 0.12265855856956207\n"
     ]
    },
    {
     "data": {
      "text/plain": [
       "Text(-25, 20, 'y = 0.17x + 75.89')"
      ]
     },
     "execution_count": 39,
     "metadata": {},
     "output_type": "execute_result"
    },
    {
     "data": {
      "image/png": "[encoded data removed]",
      "text/plain": [
       "<Figure size 432x288 with 1 Axes>"
      ]
     },
     "metadata": {
      "needs_background": "light"
     },
     "output_type": "display_data"
    }
   ],
   "source": [
    "regress_d = linreg(list(S_hemi_df[\"Lat\"]), list(S_hemi_df[\"Humidity\"]))\n",
    "plt.ylabel(\"Max Temp\")\n",
    "plt.title(\"S Hemisphere: Latitude vs. Humidity\")\n",
    "plt.annotate(regress_d,(-25,20),fontsize=15,color=\"red\") # Graphing the equation on the plot "
   ]
  },
  {
   "cell_type": "markdown",
   "metadata": {},
   "source": [
    "### Discussion about linear relationships between Humidity and Latitude\n",
    "\n",
    "blah blah blah"
   ]
  },
  {
   "cell_type": "markdown",
   "metadata": {},
   "source": [
    "### e. Northern Hemisphere: Cloudiness vs. Latitude"
   ]
  },
  {
   "cell_type": "code",
   "execution_count": 40,
   "metadata": {},
   "outputs": [
    {
     "name": "stdout",
     "output_type": "stream",
     "text": [
      "The r value is: 0.22784368283267667\n"
     ]
    },
    {
     "data": {
      "text/plain": [
       "Text(35, 30, 'y = 0.47x + 42.13')"
      ]
     },
     "execution_count": 40,
     "metadata": {},
     "output_type": "execute_result"
    },
    {
     "data": {
      "image/png": "[encoded data removed]",
      "text/plain": [
       "<Figure size 432x288 with 1 Axes>"
      ]
     },
     "metadata": {
      "needs_background": "light"
     },
     "output_type": "display_data"
    }
   ],
   "source": [
    "regress_e = linreg(list(N_hemi_df[\"Lat\"]), list(N_hemi_df[\"Cloudiness\"]))\n",
    "plt.ylabel(\"Max Temp\")\n",
    "plt.title(\"N Hemisphere: Latitude vs. Cloudiness\")\n",
    "plt.annotate(regress_e,(35,30),fontsize=15,color=\"red\") # Graphing the equation on the plot "
   ]
  },
  {
   "cell_type": "markdown",
   "metadata": {},
   "source": [
    "### f. Southern Hemisphere: Cloudiness vs. Latitude"
   ]
  },
  {
   "cell_type": "code",
   "execution_count": 41,
   "metadata": {},
   "outputs": [
    {
     "name": "stdout",
     "output_type": "stream",
     "text": [
      "The r value is: 0.17685422395073772\n"
     ]
    },
    {
     "data": {
      "text/plain": [
       "Text(-55, 55, 'y = 0.54x + 70.05')"
      ]
     },
     "execution_count": 41,
     "metadata": {},
     "output_type": "execute_result"
    },
    {
     "data": {
      "image/png": "[encoded data removed]",
      "text/plain": [
       "<Figure size 432x288 with 1 Axes>"
      ]
     },
     "metadata": {
      "needs_background": "light"
     },
     "output_type": "display_data"
    }
   ],
   "source": [
    "regress_f = linreg(list(S_hemi_df[\"Lat\"]), list(S_hemi_df[\"Cloudiness\"]))\n",
    "plt.ylabel(\"Max Temp\")\n",
    "plt.title(\"S Hemisphere: Latitude vs. Cloudiness\")\n",
    "plt.annotate(regress_f,(-55,55),fontsize=15,color=\"red\") # Graphing the equation on the plot "
   ]
  },
  {
   "cell_type": "markdown",
   "metadata": {},
   "source": [
    "### Discussion about linear relationships between Cloudiness and Latitude\n",
    "\n",
    "blah blah blah"
   ]
  },
  {
   "cell_type": "markdown",
   "metadata": {},
   "source": [
    "### g. Northern Hemisphere: Wind Speed vs. Latitude"
   ]
  },
  {
   "cell_type": "code",
   "execution_count": 42,
   "metadata": {},
   "outputs": [
    {
     "name": "stdout",
     "output_type": "stream",
     "text": [
      "The r value is: 0.14926428849918985\n"
     ]
    },
    {
     "data": {
      "text/plain": [
       "Text(10, 12.5, 'y = 0.02x + 2.86')"
      ]
     },
     "execution_count": 42,
     "metadata": {},
     "output_type": "execute_result"
    },
    {
     "data": {
      "image/png": "[encoded data removed]",
      "text/plain": [
       "<Figure size 432x288 with 1 Axes>"
      ]
     },
     "metadata": {
      "needs_background": "light"
     },
     "output_type": "display_data"
    }
   ],
   "source": [
    "regress_g = linreg(list(N_hemi_df[\"Lat\"]), list(N_hemi_df[\"Wind Speed\"]))\n",
    "plt.ylabel(\"Max Temp\")\n",
    "plt.title(\"N Hemisphere: Latitude vs. Wind Speed\")\n",
    "plt.annotate(regress_g,(10,12.5),fontsize=15,color=\"red\") # Graphing the equation on the plot "
   ]
  },
  {
   "cell_type": "markdown",
   "metadata": {},
   "source": [
    "### h. Southern Hemisphere: Wind Speed vs. Latitude"
   ]
  },
  {
   "cell_type": "code",
   "execution_count": 43,
   "metadata": {},
   "outputs": [
    {
     "name": "stdout",
     "output_type": "stream",
     "text": [
      "The r value is: -0.29097169103055476\n"
     ]
    },
    {
     "data": {
      "text/plain": [
       "Text(-50, 10, 'y = -0.05x + 2.63')"
      ]
     },
     "execution_count": 43,
     "metadata": {},
     "output_type": "execute_result"
    },
    {
     "data": {
      "image/png": "[encoded data removed]",
      "text/plain": [
       "<Figure size 432x288 with 1 Axes>"
      ]
     },
     "metadata": {
      "needs_background": "light"
     },
     "output_type": "display_data"
    }
   ],
   "source": [
    "regress_h = linreg(list(S_hemi_df[\"Lat\"]), list(S_hemi_df[\"Wind Speed\"]))\n",
    "plt.ylabel(\"Max Temp\")\n",
    "plt.title(\"S Hemisphere: Latitude vs. Wind Speed\")\n",
    "plt.annotate(regress_h,(-50,10),fontsize=15,color=\"red\") # Graphing the equation on the plot "
   ]
  },
  {
   "cell_type": "markdown",
   "metadata": {},
   "source": [
    "### Discussion about linear relationships between Wind Speed and Latitude\n",
    "\n",
    "blah blah blah"
   ]
  },
  {
   "cell_type": "markdown",
   "metadata": {},
   "source": []
  }
 ],
 "metadata": {
  "kernelspec": {
   "display_name": "Python 3.9.12 ('base')",
   "language": "python",
   "name": "python3"
  },
  "language_info": {
   "codemirror_mode": {
    "name": "ipython",
    "version": 3
   },
   "file_extension": ".py",
   "mimetype": "text/x-python",
   "name": "python",
   "nbconvert_exporter": "python",
   "pygments_lexer": "ipython3",
   "version": "3.9.12"
  },
  "orig_nbformat": 4,
  "vscode": {
   "interpreter": {
    "hash": "8ca3c2b93fec3a68989a8a35ad4ad37f554c7436255229aa8dbd97e50d16e03f"
   }
  }
 },
 "nbformat": 4,
 "nbformat_minor": 2
}
