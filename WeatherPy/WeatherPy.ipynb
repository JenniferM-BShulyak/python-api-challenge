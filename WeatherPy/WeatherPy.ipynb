{
 "cells": [
  {
   "cell_type": "markdown",
   "metadata": {},
   "source": [
    "# WeatherPy"
   ]
  },
  {
   "cell_type": "markdown",
   "metadata": {},
   "source": [
    "## Dependencies"
   ]
  },
  {
   "cell_type": "code",
   "execution_count": 44,
   "metadata": {},
   "outputs": [],
   "source": [
    "# Dependencies and Setup\n",
    "\n",
    "import matplotlib.pyplot as plt\n",
    "import pandas as pd\n",
    "import numpy as np\n",
    "import requests\n",
    "import time\n",
    "from scipy.stats import linregress\n",
    "\n",
    "\n",
    "\n",
    "\n",
    "# Import citipy to determine the cities based on latitude and longitude\n",
    "from citipy import citipy"
   ]
  },
  {
   "cell_type": "markdown",
   "metadata": {},
   "source": [
    "## Create Random Geographic Coordinates and List of Cities"
   ]
  },
  {
   "cell_type": "code",
   "execution_count": 45,
   "metadata": {},
   "outputs": [
    {
     "name": "stdout",
     "output_type": "stream",
     "text": [
      "Number of cities in the list: 602\n"
     ]
    }
   ],
   "source": [
    "# Empty list for holding the latitude and longitude combinations\n",
    "lat_lngs = []\n",
    "\n",
    "# Empty list for holding the cities names\n",
    "cities = []\n",
    "\n",
    "# Range of latitudes and longitudes\n",
    "lat_range = (-90, 90)\n",
    "lng_range = (-180, 180)\n",
    "\n",
    "# Create a set of random lat and lng combinations\n",
    "lats = np.random.uniform(lat_range[0], lat_range[1], size=1500)\n",
    "lngs = np.random.uniform(lng_range[0], lng_range[1], size=1500)\n",
    "lat_lngs = zip(lats, lngs)\n",
    "\n",
    "# Identify nearest city for each lat, lng combination\n",
    "for lat_lng in lat_lngs:\n",
    "    city = citipy.nearest_city(lat_lng[0], lat_lng[1]).city_name\n",
    "    \n",
    "    # If the city is unique, then add it to a our cities list\n",
    "    if city not in cities:\n",
    "        cities.append(city)\n",
    "\n",
    "# Print the city count to confirm sufficient count\n",
    "print(f\"Number of cities in the list: {len(cities)}\")"
   ]
  },
  {
   "cell_type": "markdown",
   "metadata": {},
   "source": [
    "# Requirement 1: Create Plots to Show Relationship Between Weather Variables and Latitude"
   ]
  },
  {
   "cell_type": "markdown",
   "metadata": {},
   "source": [
    "## Make API requests to fill in weather data for each city"
   ]
  },
  {
   "cell_type": "code",
   "execution_count": 46,
   "metadata": {},
   "outputs": [],
   "source": [
    "# Set the URL Base\n",
    "url = \"https://api.openweathermap.org/data/2.5/weather?\"\n",
    "\n",
    "# Define an empty list to fetch the weather data for each city\n",
    "city_data = []\n",
    "\n",
    "# Create Counters\n",
    "record_count = 1\n",
    "set_count = 1"
   ]
  },
  {
   "cell_type": "code",
   "execution_count": 47,
   "metadata": {},
   "outputs": [
    {
     "name": "stdout",
     "output_type": "stream",
     "text": [
      "Beginning Data Retrieval     \n",
      "-----------------------------\n"
     ]
    }
   ],
   "source": [
    "# Print to logger\n",
    "print(\"Beginning Data Retrieval     \")\n",
    "print(\"-----------------------------\")"
   ]
  },
  {
   "cell_type": "code",
   "execution_count": 48,
   "metadata": {},
   "outputs": [
    {
     "name": "stdout",
     "output_type": "stream",
     "text": [
      "Processing Record 1 of Set 1 | qaanaaq\n",
      "Processing Record 2 of Set 1 | hobart\n",
      "Processing Record 3 of Set 1 | avarua\n",
      "Processing Record 4 of Set 1 | muisne\n",
      "Processing Record 5 of Set 1 | polyarnyy\n",
      "Processing Record 6 of Set 1 | amderma\n",
      "City not found. Skipping...\n",
      "Processing Record 7 of Set 1 | ponta do sol\n",
      "Processing Record 8 of Set 1 | dikson\n",
      "Processing Record 9 of Set 1 | lethem\n",
      "Processing Record 10 of Set 1 | jinchengjiang\n",
      "City not found. Skipping...\n",
      "Processing Record 11 of Set 1 | nikolskoye\n",
      "Processing Record 12 of Set 1 | vaini\n",
      "Processing Record 13 of Set 1 | barstow\n",
      "Processing Record 14 of Set 1 | buqayq\n",
      "City not found. Skipping...\n",
      "Processing Record 15 of Set 1 | maldonado\n",
      "Processing Record 16 of Set 1 | port alfred\n",
      "Processing Record 17 of Set 1 | acapulco\n",
      "Processing Record 18 of Set 1 | rikitea\n",
      "Processing Record 19 of Set 1 | new norfolk\n",
      "Processing Record 20 of Set 1 | narrabri\n",
      "Processing Record 21 of Set 1 | tasiilaq\n",
      "Processing Record 22 of Set 1 | tuatapere\n",
      "Processing Record 23 of Set 1 | san andres\n",
      "Processing Record 24 of Set 1 | busselton\n",
      "Processing Record 25 of Set 1 | yellowknife\n",
      "Processing Record 26 of Set 1 | longyearbyen\n",
      "Processing Record 27 of Set 1 | ushuaia\n",
      "Processing Record 28 of Set 1 | tutoia\n",
      "Processing Record 29 of Set 1 | husavik\n",
      "Processing Record 30 of Set 1 | cidreira\n",
      "Processing Record 31 of Set 1 | east london\n",
      "Processing Record 32 of Set 1 | buala\n",
      "Processing Record 33 of Set 1 | nizhneyansk\n",
      "City not found. Skipping...\n",
      "Processing Record 34 of Set 1 | susuman\n",
      "Processing Record 35 of Set 1 | gat\n",
      "Processing Record 36 of Set 1 | pedra branca\n",
      "Processing Record 37 of Set 1 | oslo\n",
      "Processing Record 38 of Set 1 | hermanus\n",
      "Processing Record 39 of Set 1 | saint-philippe\n",
      "Processing Record 40 of Set 1 | livingston\n",
      "Processing Record 41 of Set 1 | sao joao da barra\n",
      "Processing Record 42 of Set 1 | saint george\n",
      "Processing Record 43 of Set 1 | puerto ayora\n",
      "Processing Record 44 of Set 1 | brigantine\n",
      "Processing Record 45 of Set 1 | nurobod\n",
      "Processing Record 46 of Set 1 | yulara\n",
      "Processing Record 47 of Set 1 | mogadishu\n",
      "Processing Record 48 of Set 1 | itupiranga\n",
      "Processing Record 49 of Set 1 | saleaula\n",
      "City not found. Skipping...\n",
      "Processing Record 50 of Set 1 | thompson\n",
      "Processing Record 0 of Set 2 | hilo\n",
      "Processing Record 1 of Set 2 | mataura\n",
      "Processing Record 2 of Set 2 | yumen\n",
      "Processing Record 3 of Set 2 | taolanaro\n",
      "City not found. Skipping...\n",
      "Processing Record 4 of Set 2 | belushya guba\n",
      "City not found. Skipping...\n",
      "Processing Record 5 of Set 2 | fonte boa\n",
      "Processing Record 6 of Set 2 | torbay\n",
      "Processing Record 7 of Set 2 | bredasdorp\n",
      "Processing Record 8 of Set 2 | mys shmidta\n",
      "City not found. Skipping...\n",
      "Processing Record 9 of Set 2 | sainte-thecle\n",
      "Processing Record 10 of Set 2 | haibowan\n",
      "City not found. Skipping...\n",
      "Processing Record 11 of Set 2 | carnarvon\n",
      "Processing Record 12 of Set 2 | ilulissat\n",
      "Processing Record 13 of Set 2 | sayat\n",
      "Processing Record 14 of Set 2 | barrow\n",
      "Processing Record 15 of Set 2 | petropavlovsk-kamchatskiy\n",
      "Processing Record 16 of Set 2 | asau\n",
      "Processing Record 17 of Set 2 | lumberton\n",
      "Processing Record 18 of Set 2 | isnos\n",
      "Processing Record 19 of Set 2 | tuktoyaktuk\n",
      "Processing Record 20 of Set 2 | kapaa\n",
      "Processing Record 21 of Set 2 | salalah\n",
      "Processing Record 22 of Set 2 | illoqqortoormiut\n",
      "City not found. Skipping...\n",
      "Processing Record 23 of Set 2 | saint combs\n",
      "City not found. Skipping...\n",
      "Processing Record 24 of Set 2 | jamestown\n",
      "Processing Record 25 of Set 2 | bathsheba\n",
      "Processing Record 26 of Set 2 | canutama\n",
      "Processing Record 27 of Set 2 | kontagora\n",
      "Processing Record 28 of Set 2 | trelew\n",
      "Processing Record 29 of Set 2 | coihueco\n",
      "Processing Record 30 of Set 2 | banjar\n",
      "Processing Record 31 of Set 2 | joensuu\n",
      "Processing Record 32 of Set 2 | asfi\n",
      "Processing Record 33 of Set 2 | albany\n",
      "Processing Record 34 of Set 2 | poya\n",
      "Processing Record 35 of Set 2 | egvekinot\n",
      "Processing Record 36 of Set 2 | lolua\n",
      "City not found. Skipping...\n",
      "Processing Record 37 of Set 2 | lasa\n",
      "Processing Record 38 of Set 2 | rorvik\n",
      "Processing Record 39 of Set 2 | punta arenas\n",
      "Processing Record 40 of Set 2 | malakal\n",
      "Processing Record 41 of Set 2 | sao filipe\n",
      "Processing Record 42 of Set 2 | khatanga\n",
      "Processing Record 43 of Set 2 | minden\n",
      "Processing Record 44 of Set 2 | bonthe\n",
      "Processing Record 45 of Set 2 | milingimbi\n",
      "City not found. Skipping...\n",
      "Processing Record 46 of Set 2 | margate\n",
      "Processing Record 47 of Set 2 | angoche\n",
      "Processing Record 48 of Set 2 | burns lake\n",
      "Processing Record 49 of Set 2 | marsa matruh\n",
      "Processing Record 0 of Set 3 | kabompo\n",
      "Processing Record 1 of Set 3 | puerto narino\n",
      "Processing Record 2 of Set 3 | vaitupu\n",
      "City not found. Skipping...\n",
      "Processing Record 3 of Set 3 | chokurdakh\n",
      "Processing Record 4 of Set 3 | richards bay\n",
      "Processing Record 5 of Set 3 | upernavik\n",
      "Processing Record 6 of Set 3 | provideniya\n",
      "Processing Record 7 of Set 3 | mocuba\n",
      "Processing Record 8 of Set 3 | cape town\n",
      "Processing Record 9 of Set 3 | nanortalik\n",
      "Processing Record 10 of Set 3 | ancud\n",
      "Processing Record 11 of Set 3 | hasaki\n",
      "Processing Record 12 of Set 3 | maniitsoq\n",
      "Processing Record 13 of Set 3 | mahebourg\n",
      "Processing Record 14 of Set 3 | bolungarvik\n",
      "City not found. Skipping...\n",
      "Processing Record 15 of Set 3 | tabou\n",
      "Processing Record 16 of Set 3 | atar\n",
      "Processing Record 17 of Set 3 | broken hill\n",
      "Processing Record 18 of Set 3 | shu\n",
      "Processing Record 19 of Set 3 | butaritari\n",
      "Processing Record 20 of Set 3 | guerrero negro\n",
      "Processing Record 21 of Set 3 | namibe\n",
      "Processing Record 22 of Set 3 | matara\n",
      "Processing Record 23 of Set 3 | hofn\n",
      "Processing Record 24 of Set 3 | victoria\n",
      "Processing Record 25 of Set 3 | geraldton\n",
      "Processing Record 26 of Set 3 | mackay\n",
      "Processing Record 27 of Set 3 | tigil\n",
      "Processing Record 28 of Set 3 | fortuna\n",
      "Processing Record 29 of Set 3 | arraial do cabo\n",
      "Processing Record 30 of Set 3 | kahului\n",
      "Processing Record 31 of Set 3 | chara\n",
      "Processing Record 32 of Set 3 | nguiu\n",
      "City not found. Skipping...\n",
      "Processing Record 33 of Set 3 | chuy\n",
      "Processing Record 34 of Set 3 | yumaguzino\n",
      "Processing Record 35 of Set 3 | bengkulu\n",
      "Processing Record 36 of Set 3 | bluff\n",
      "Processing Record 37 of Set 3 | vostok\n",
      "Processing Record 38 of Set 3 | buraydah\n",
      "Processing Record 39 of Set 3 | sentyabrskiy\n",
      "City not found. Skipping...\n",
      "Processing Record 40 of Set 3 | jishou\n",
      "Processing Record 41 of Set 3 | yinchuan\n",
      "Processing Record 42 of Set 3 | kombissiri\n",
      "Processing Record 43 of Set 3 | ribeira grande\n",
      "Processing Record 44 of Set 3 | heilbron\n",
      "Processing Record 45 of Set 3 | saskylakh\n",
      "Processing Record 46 of Set 3 | raudeberg\n",
      "Processing Record 47 of Set 3 | lamu\n",
      "Processing Record 48 of Set 3 | villiers\n",
      "Processing Record 49 of Set 3 | dingle\n",
      "Processing Record 0 of Set 4 | jurm\n",
      "Processing Record 1 of Set 4 | sechura\n",
      "Processing Record 2 of Set 4 | cherskiy\n",
      "Processing Record 3 of Set 4 | tuy hoa\n",
      "Processing Record 4 of Set 4 | pevek\n",
      "Processing Record 5 of Set 4 | khasan\n",
      "Processing Record 6 of Set 4 | los llanos de aridane\n",
      "Processing Record 7 of Set 4 | winslow\n",
      "Processing Record 8 of Set 4 | iqaluit\n",
      "Processing Record 9 of Set 4 | lavrentiya\n",
      "Processing Record 10 of Set 4 | lerwick\n",
      "Processing Record 11 of Set 4 | ostersund\n",
      "Processing Record 12 of Set 4 | boende\n",
      "Processing Record 13 of Set 4 | kodiak\n",
      "Processing Record 14 of Set 4 | omsukchan\n",
      "Processing Record 15 of Set 4 | te anau\n",
      "Processing Record 16 of Set 4 | okhotsk\n",
      "Processing Record 17 of Set 4 | le port\n",
      "Processing Record 18 of Set 4 | shenjiamen\n",
      "Processing Record 19 of Set 4 | uruzgan\n",
      "Processing Record 20 of Set 4 | port hardy\n",
      "Processing Record 21 of Set 4 | santo tomas\n",
      "Processing Record 22 of Set 4 | cabo san lucas\n",
      "Processing Record 23 of Set 4 | porangatu\n",
      "Processing Record 24 of Set 4 | patea\n",
      "Processing Record 25 of Set 4 | pangnirtung\n",
      "Processing Record 26 of Set 4 | atuona\n",
      "Processing Record 27 of Set 4 | nouadhibou\n",
      "Processing Record 28 of Set 4 | torit\n",
      "Processing Record 29 of Set 4 | san cristobal\n",
      "Processing Record 30 of Set 4 | laguna\n",
      "Processing Record 31 of Set 4 | portel\n",
      "Processing Record 32 of Set 4 | lebu\n",
      "Processing Record 33 of Set 4 | ahipara\n",
      "Processing Record 34 of Set 4 | castro\n",
      "Processing Record 35 of Set 4 | vestmannaeyjar\n",
      "Processing Record 36 of Set 4 | paraiso\n",
      "Processing Record 37 of Set 4 | georgetown\n",
      "Processing Record 38 of Set 4 | lorengau\n",
      "Processing Record 39 of Set 4 | molina\n",
      "Processing Record 40 of Set 4 | saldanha\n",
      "Processing Record 41 of Set 4 | kirensk\n",
      "Processing Record 42 of Set 4 | kamien pomorski\n",
      "Processing Record 43 of Set 4 | hithadhoo\n",
      "Processing Record 44 of Set 4 | nevsehir\n",
      "Processing Record 45 of Set 4 | vao\n",
      "Processing Record 46 of Set 4 | kokopo\n",
      "Processing Record 47 of Set 4 | zemio\n",
      "Processing Record 48 of Set 4 | port hedland\n",
      "Processing Record 49 of Set 4 | zhigalovo\n",
      "Processing Record 0 of Set 5 | kruisfontein\n",
      "Processing Record 1 of Set 5 | ustynivka\n",
      "Processing Record 2 of Set 5 | nantucket\n",
      "Processing Record 3 of Set 5 | kommunisticheskiy\n",
      "Processing Record 4 of Set 5 | hegang\n",
      "Processing Record 5 of Set 5 | hambantota\n",
      "Processing Record 6 of Set 5 | grand centre\n",
      "City not found. Skipping...\n",
      "Processing Record 7 of Set 5 | saint-joseph\n",
      "Processing Record 8 of Set 5 | mamallapuram\n",
      "Processing Record 9 of Set 5 | nykobing\n",
      "City not found. Skipping...\n",
      "Processing Record 10 of Set 5 | mumford\n",
      "Processing Record 11 of Set 5 | tilichiki\n",
      "Processing Record 12 of Set 5 | neiafu\n",
      "Processing Record 13 of Set 5 | portland\n",
      "Processing Record 14 of Set 5 | marzuq\n",
      "Processing Record 15 of Set 5 | luganville\n",
      "Processing Record 16 of Set 5 | nome\n",
      "Processing Record 17 of Set 5 | port hueneme\n",
      "Processing Record 18 of Set 5 | zhuhai\n",
      "Processing Record 19 of Set 5 | khani\n",
      "Processing Record 20 of Set 5 | karratha\n",
      "Processing Record 21 of Set 5 | waipawa\n",
      "Processing Record 22 of Set 5 | kaitangata\n",
      "Processing Record 23 of Set 5 | qaqortoq\n",
      "Processing Record 24 of Set 5 | landerneau\n",
      "Processing Record 25 of Set 5 | balabac\n",
      "Processing Record 26 of Set 5 | fuling\n",
      "Processing Record 27 of Set 5 | cozumel\n",
      "Processing Record 28 of Set 5 | caravelas\n",
      "Processing Record 29 of Set 5 | college\n",
      "Processing Record 30 of Set 5 | banyo\n",
      "Processing Record 31 of Set 5 | airai\n",
      "Processing Record 32 of Set 5 | victor harbor\n",
      "Processing Record 33 of Set 5 | lahad datu\n",
      "Processing Record 34 of Set 5 | grindavik\n",
      "Processing Record 35 of Set 5 | luderitz\n",
      "Processing Record 36 of Set 5 | pechory\n",
      "Processing Record 37 of Set 5 | sidney\n",
      "Processing Record 38 of Set 5 | marcona\n",
      "City not found. Skipping...\n",
      "Processing Record 39 of Set 5 | hobyo\n",
      "Processing Record 40 of Set 5 | dakar\n",
      "Processing Record 41 of Set 5 | flinders\n",
      "Processing Record 42 of Set 5 | port arthur\n",
      "Processing Record 43 of Set 5 | tabiauea\n",
      "City not found. Skipping...\n",
      "Processing Record 44 of Set 5 | manado\n",
      "Processing Record 45 of Set 5 | cockburn town\n",
      "Processing Record 46 of Set 5 | kloulklubed\n",
      "Processing Record 47 of Set 5 | norman wells\n",
      "Processing Record 48 of Set 5 | meulaboh\n",
      "Processing Record 49 of Set 5 | povenets\n",
      "Processing Record 0 of Set 6 | la ronge\n",
      "Processing Record 1 of Set 6 | mirnyy\n",
      "Processing Record 2 of Set 6 | anamur\n",
      "Processing Record 3 of Set 6 | silca\n",
      "Processing Record 4 of Set 6 | tambacounda\n",
      "Processing Record 5 of Set 6 | constitucion\n",
      "Processing Record 6 of Set 6 | noumea\n",
      "Processing Record 7 of Set 6 | kurilsk\n",
      "Processing Record 8 of Set 6 | maple creek\n",
      "Processing Record 9 of Set 6 | henties bay\n",
      "Processing Record 10 of Set 6 | botwood\n",
      "Processing Record 11 of Set 6 | sabang\n",
      "Processing Record 12 of Set 6 | brooks\n",
      "Processing Record 13 of Set 6 | palabuhanratu\n",
      "City not found. Skipping...\n",
      "Processing Record 14 of Set 6 | asyut\n",
      "Processing Record 15 of Set 6 | gayny\n",
      "Processing Record 16 of Set 6 | hualmay\n",
      "Processing Record 17 of Set 6 | suna\n",
      "Processing Record 18 of Set 6 | lagunas\n",
      "Processing Record 19 of Set 6 | barentu\n",
      "Processing Record 20 of Set 6 | inhambane\n",
      "Processing Record 21 of Set 6 | salinopolis\n",
      "Processing Record 22 of Set 6 | olga\n",
      "Processing Record 23 of Set 6 | severo-kurilsk\n",
      "Processing Record 24 of Set 6 | esperance\n",
      "Processing Record 25 of Set 6 | sug-aksy\n",
      "City not found. Skipping...\n",
      "Processing Record 26 of Set 6 | attawapiskat\n",
      "City not found. Skipping...\n",
      "Processing Record 27 of Set 6 | champerico\n",
      "Processing Record 28 of Set 6 | petatlan\n",
      "Processing Record 29 of Set 6 | havoysund\n",
      "Processing Record 30 of Set 6 | deputatskiy\n",
      "Processing Record 31 of Set 6 | biak\n",
      "Processing Record 32 of Set 6 | northam\n",
      "Processing Record 33 of Set 6 | bjornevatn\n",
      "Processing Record 34 of Set 6 | muros\n",
      "Processing Record 35 of Set 6 | nova londrina\n",
      "Processing Record 36 of Set 6 | tsihombe\n",
      "City not found. Skipping...\n",
      "Processing Record 37 of Set 6 | evensk\n",
      "Processing Record 38 of Set 6 | saint-pierre\n",
      "Processing Record 39 of Set 6 | warragul\n",
      "Processing Record 40 of Set 6 | narsaq\n",
      "Processing Record 41 of Set 6 | bahia de caraquez\n",
      "Processing Record 42 of Set 6 | tiznit\n",
      "Processing Record 43 of Set 6 | sennoy\n",
      "Processing Record 44 of Set 6 | tiksi\n",
      "Processing Record 45 of Set 6 | alappuzha\n",
      "Processing Record 46 of Set 6 | zeljezno polje\n",
      "Processing Record 47 of Set 6 | vallenar\n",
      "Processing Record 48 of Set 6 | solnechnyy\n",
      "Processing Record 49 of Set 6 | gushikawa\n",
      "Processing Record 0 of Set 7 | leshukonskoye\n",
      "Processing Record 1 of Set 7 | clinton\n",
      "Processing Record 2 of Set 7 | abu samrah\n",
      "Processing Record 3 of Set 7 | mar del plata\n",
      "Processing Record 4 of Set 7 | joshimath\n",
      "Processing Record 5 of Set 7 | nhulunbuy\n",
      "Processing Record 6 of Set 7 | rognan\n",
      "Processing Record 7 of Set 7 | digras\n",
      "Processing Record 8 of Set 7 | palmer\n",
      "Processing Record 9 of Set 7 | souillac\n",
      "Processing Record 10 of Set 7 | mentok\n",
      "City not found. Skipping...\n",
      "Processing Record 11 of Set 7 | rovaniemi\n",
      "Processing Record 12 of Set 7 | bandarbeyla\n",
      "Processing Record 13 of Set 7 | ouadda\n",
      "Processing Record 14 of Set 7 | bargal\n",
      "City not found. Skipping...\n",
      "Processing Record 15 of Set 7 | fort walton beach\n",
      "Processing Record 16 of Set 7 | safwah\n",
      "City not found. Skipping...\n",
      "Processing Record 17 of Set 7 | harper\n",
      "Processing Record 18 of Set 7 | sitka\n",
      "Processing Record 19 of Set 7 | port augusta\n",
      "Processing Record 20 of Set 7 | broome\n",
      "Processing Record 21 of Set 7 | elizabeth city\n",
      "Processing Record 22 of Set 7 | sisimiut\n",
      "Processing Record 23 of Set 7 | sembakung\n",
      "Processing Record 24 of Set 7 | chapais\n",
      "Processing Record 25 of Set 7 | barentsburg\n",
      "City not found. Skipping...\n",
      "Processing Record 26 of Set 7 | manaure\n",
      "Processing Record 27 of Set 7 | touros\n",
      "Processing Record 28 of Set 7 | baherden\n",
      "Processing Record 29 of Set 7 | paamiut\n",
      "Processing Record 30 of Set 7 | kinablangan\n",
      "Processing Record 31 of Set 7 | myitkyina\n",
      "Processing Record 32 of Set 7 | banda aceh\n",
      "Processing Record 33 of Set 7 | colomi\n",
      "Processing Record 34 of Set 7 | astoria\n",
      "Processing Record 35 of Set 7 | pescara\n",
      "Processing Record 36 of Set 7 | alugan\n",
      "Processing Record 37 of Set 7 | tabas\n",
      "Processing Record 38 of Set 7 | namatanai\n",
      "Processing Record 39 of Set 7 | serenje\n",
      "Processing Record 40 of Set 7 | nefteyugansk\n",
      "Processing Record 41 of Set 7 | bambous virieux\n",
      "Processing Record 42 of Set 7 | lephepe\n",
      "City not found. Skipping...\n",
      "Processing Record 43 of Set 7 | lompoc\n",
      "Processing Record 44 of Set 7 | bundaberg\n",
      "Processing Record 45 of Set 7 | bijar\n",
      "Processing Record 46 of Set 7 | isangel\n",
      "Processing Record 47 of Set 7 | wenling\n",
      "Processing Record 48 of Set 7 | fianga\n",
      "City not found. Skipping...\n",
      "Processing Record 49 of Set 7 | santiago\n",
      "Processing Record 0 of Set 8 | homberg\n",
      "Processing Record 1 of Set 8 | vina del mar\n",
      "Processing Record 2 of Set 8 | houma\n",
      "Processing Record 3 of Set 8 | surt\n",
      "Processing Record 4 of Set 8 | fayaoue\n",
      "Processing Record 5 of Set 8 | mayskiy\n",
      "Processing Record 6 of Set 8 | port-gentil\n",
      "Processing Record 7 of Set 8 | yuzhou\n",
      "Processing Record 8 of Set 8 | murdochville\n",
      "Processing Record 9 of Set 8 | mount isa\n",
      "Processing Record 10 of Set 8 | armidale\n",
      "Processing Record 11 of Set 8 | monrovia\n",
      "Processing Record 12 of Set 8 | shamkhal\n",
      "Processing Record 13 of Set 8 | port elizabeth\n",
      "Processing Record 14 of Set 8 | caudry\n",
      "Processing Record 15 of Set 8 | aripuana\n",
      "Processing Record 16 of Set 8 | mayumba\n",
      "Processing Record 17 of Set 8 | kununurra\n",
      "Processing Record 18 of Set 8 | klaksvik\n",
      "Processing Record 19 of Set 8 | halalo\n",
      "City not found. Skipping...\n",
      "Processing Record 20 of Set 8 | yaring\n",
      "Processing Record 21 of Set 8 | ryotsu\n",
      "Processing Record 22 of Set 8 | nishihara\n",
      "Processing Record 23 of Set 8 | hammerfest\n",
      "Processing Record 24 of Set 8 | baruun-urt\n",
      "Processing Record 25 of Set 8 | camacha\n",
      "Processing Record 26 of Set 8 | liuhe\n",
      "Processing Record 27 of Set 8 | zhigansk\n",
      "Processing Record 28 of Set 8 | naze\n",
      "Processing Record 29 of Set 8 | bobrovka\n",
      "Processing Record 30 of Set 8 | padang\n",
      "Processing Record 31 of Set 8 | yerbogachen\n",
      "Processing Record 32 of Set 8 | ballina\n",
      "Processing Record 33 of Set 8 | rio grande city\n",
      "Processing Record 34 of Set 8 | sahrak\n",
      "City not found. Skipping...\n",
      "Processing Record 35 of Set 8 | sao miguel do araguaia\n",
      "Processing Record 36 of Set 8 | morant bay\n",
      "Processing Record 37 of Set 8 | nchelenge\n",
      "Processing Record 38 of Set 8 | wangaratta\n",
      "Processing Record 39 of Set 8 | borohradek\n",
      "Processing Record 40 of Set 8 | mount gambier\n",
      "Processing Record 41 of Set 8 | phan thiet\n",
      "Processing Record 42 of Set 8 | hirado\n",
      "Processing Record 43 of Set 8 | warqla\n",
      "City not found. Skipping...\n",
      "Processing Record 44 of Set 8 | nalut\n",
      "Processing Record 45 of Set 8 | vanavara\n",
      "Processing Record 46 of Set 8 | charleston\n",
      "Processing Record 47 of Set 8 | santiago del estero\n",
      "Processing Record 48 of Set 8 | coquimbo\n",
      "Processing Record 49 of Set 8 | faanui\n",
      "Processing Record 0 of Set 9 | kiama\n",
      "Processing Record 1 of Set 9 | north platte\n",
      "Processing Record 2 of Set 9 | puerto pinasco\n",
      "City not found. Skipping...\n",
      "Processing Record 3 of Set 9 | yumbel\n",
      "Processing Record 4 of Set 9 | esso\n",
      "Processing Record 5 of Set 9 | basco\n",
      "Processing Record 6 of Set 9 | clyde river\n",
      "Processing Record 7 of Set 9 | kenai\n",
      "Processing Record 8 of Set 9 | melfort\n",
      "Processing Record 9 of Set 9 | dois corregos\n",
      "Processing Record 10 of Set 9 | prince george\n",
      "Processing Record 11 of Set 9 | aklavik\n",
      "Processing Record 12 of Set 9 | nova olimpia\n",
      "Processing Record 13 of Set 9 | meyungs\n",
      "City not found. Skipping...\n",
      "Processing Record 14 of Set 9 | zyryanka\n",
      "Processing Record 15 of Set 9 | asosa\n",
      "Processing Record 16 of Set 9 | samarai\n",
      "Processing Record 17 of Set 9 | faya\n",
      "Processing Record 18 of Set 9 | hovd\n",
      "Processing Record 19 of Set 9 | nargana\n",
      "Processing Record 20 of Set 9 | brae\n",
      "Processing Record 21 of Set 9 | calabozo\n",
      "Processing Record 22 of Set 9 | katsuura\n",
      "Processing Record 23 of Set 9 | hihifo\n",
      "City not found. Skipping...\n",
      "Processing Record 24 of Set 9 | ginda\n",
      "Processing Record 25 of Set 9 | labuhan\n",
      "Processing Record 26 of Set 9 | thinadhoo\n",
      "Processing Record 27 of Set 9 | maneadero\n",
      "Processing Record 28 of Set 9 | odweyne\n",
      "Processing Record 29 of Set 9 | coihaique\n",
      "Processing Record 30 of Set 9 | opuwo\n",
      "Processing Record 31 of Set 9 | poum\n",
      "Processing Record 32 of Set 9 | naftalan\n",
      "Processing Record 33 of Set 9 | washington\n",
      "Processing Record 34 of Set 9 | rawson\n",
      "Processing Record 35 of Set 9 | longlac\n",
      "City not found. Skipping...\n",
      "Processing Record 36 of Set 9 | la ceiba\n",
      "Processing Record 37 of Set 9 | shillong\n",
      "Processing Record 38 of Set 9 | anadyr\n",
      "Processing Record 39 of Set 9 | malmo\n",
      "Processing Record 40 of Set 9 | ketchikan\n",
      "Processing Record 41 of Set 9 | honiara\n",
      "Processing Record 42 of Set 9 | ouesso\n",
      "Processing Record 43 of Set 9 | devils lake\n",
      "Processing Record 44 of Set 9 | jasper\n",
      "Processing Record 45 of Set 9 | melo\n",
      "Processing Record 46 of Set 9 | kamenskoye\n",
      "City not found. Skipping...\n",
      "Processing Record 47 of Set 9 | bastia\n",
      "Processing Record 48 of Set 9 | san jeronimo\n",
      "Processing Record 49 of Set 9 | potosi\n",
      "Processing Record 0 of Set 10 | berlevag\n",
      "Processing Record 1 of Set 10 | amarpatan\n",
      "Processing Record 2 of Set 10 | wajid\n",
      "Processing Record 3 of Set 10 | itarema\n",
      "Processing Record 4 of Set 10 | mbandaka\n",
      "Processing Record 5 of Set 10 | grand river south east\n",
      "City not found. Skipping...\n",
      "Processing Record 6 of Set 10 | umm kaddadah\n",
      "Processing Record 7 of Set 10 | vardo\n",
      "Processing Record 8 of Set 10 | louisbourg\n",
      "City not found. Skipping...\n",
      "Processing Record 9 of Set 10 | makat\n",
      "Processing Record 10 of Set 10 | kardamaina\n",
      "Processing Record 11 of Set 10 | puro\n",
      "Processing Record 12 of Set 10 | zhanatas\n",
      "City not found. Skipping...\n",
      "Processing Record 13 of Set 10 | chaohu\n",
      "Processing Record 14 of Set 10 | tecoanapa\n",
      "Processing Record 15 of Set 10 | roald\n",
      "Processing Record 16 of Set 10 | barreiras\n",
      "Processing Record 17 of Set 10 | barra dos coqueiros\n",
      "Processing Record 18 of Set 10 | komsomolskiy\n",
      "Processing Record 19 of Set 10 | morros\n",
      "Processing Record 20 of Set 10 | rudnya\n",
      "Processing Record 21 of Set 10 | muravlenko\n",
      "Processing Record 22 of Set 10 | chamba\n",
      "Processing Record 23 of Set 10 | aswan\n",
      "Processing Record 24 of Set 10 | maragogi\n",
      "Processing Record 25 of Set 10 | pobe\n",
      "Processing Record 26 of Set 10 | chengmai\n",
      "City not found. Skipping...\n",
      "Processing Record 27 of Set 10 | muroto\n",
      "Processing Record 28 of Set 10 | sedelnikovo\n",
      "City not found. Skipping...\n",
      "Processing Record 29 of Set 10 | tocopilla\n",
      "Processing Record 30 of Set 10 | ocampo\n",
      "Processing Record 31 of Set 10 | tidore\n",
      "City not found. Skipping...\n",
      "Processing Record 32 of Set 10 | sibolga\n",
      "Processing Record 33 of Set 10 | la macarena\n",
      "Processing Record 34 of Set 10 | shitanjing\n",
      "Processing Record 35 of Set 10 | talnakh\n",
      "Processing Record 36 of Set 10 | amot\n",
      "Processing Record 37 of Set 10 | heihe\n",
      "Processing Record 38 of Set 10 | axim\n",
      "Processing Record 39 of Set 10 | korla\n",
      "Processing Record 40 of Set 10 | san patricio\n",
      "Processing Record 41 of Set 10 | port lincoln\n",
      "Processing Record 42 of Set 10 | tripoli\n",
      "Processing Record 43 of Set 10 | comodoro rivadavia\n",
      "Processing Record 44 of Set 10 | conakry\n",
      "Processing Record 45 of Set 10 | rantepao\n",
      "Processing Record 46 of Set 10 | san policarpo\n",
      "Processing Record 47 of Set 10 | pacific grove\n",
      "Processing Record 48 of Set 10 | mountain home\n",
      "Processing Record 49 of Set 10 | codrington\n",
      "Processing Record 0 of Set 11 | chiredzi\n",
      "Processing Record 1 of Set 11 | mahabad\n",
      "Processing Record 2 of Set 11 | belaya gora\n",
      "Processing Record 3 of Set 11 | benguela\n",
      "Processing Record 4 of Set 11 | kushima\n",
      "Processing Record 5 of Set 11 | high level\n",
      "Processing Record 6 of Set 11 | hoa binh\n",
      "Processing Record 7 of Set 11 | aasiaat\n",
      "Processing Record 8 of Set 11 | fukue\n",
      "Processing Record 9 of Set 11 | lagoa\n",
      "Processing Record 10 of Set 11 | hailar\n",
      "Processing Record 11 of Set 11 | yei\n",
      "Processing Record 12 of Set 11 | fort nelson\n",
      "Processing Record 13 of Set 11 | waynesville\n",
      "Processing Record 14 of Set 11 | ostrovnoy\n",
      "Processing Record 15 of Set 11 | wittmund\n",
      "Processing Record 16 of Set 11 | fairbanks\n",
      "Processing Record 17 of Set 11 | riachao das neves\n",
      "Processing Record 18 of Set 11 | itaituba\n",
      "Processing Record 19 of Set 11 | marawi\n",
      "Processing Record 20 of Set 11 | oranjemund\n",
      "Processing Record 21 of Set 11 | mindelo\n",
      "Processing Record 22 of Set 11 | chaykovskiy\n",
      "Processing Record 23 of Set 11 | puerto palomas\n",
      "Processing Record 24 of Set 11 | montepuez\n",
      "Processing Record 25 of Set 11 | la libertad\n",
      "Processing Record 26 of Set 11 | blyznyuky\n",
      "Processing Record 27 of Set 11 | kismayo\n",
      "Processing Record 28 of Set 11 | nabire\n",
      "Processing Record 29 of Set 11 | san pedro\n",
      "Processing Record 30 of Set 11 | batagay-alyta\n",
      "Processing Record 31 of Set 11 | visnes\n",
      "Processing Record 32 of Set 11 | tessalit\n",
      "Processing Record 33 of Set 11 | inuvik\n",
      "Processing Record 34 of Set 11 | karlskoga\n",
      "Processing Record 35 of Set 11 | svetlyy\n",
      "Processing Record 36 of Set 11 | teahupoo\n",
      "Processing Record 37 of Set 11 | miyako\n",
      "Processing Record 38 of Set 11 | wilmington\n",
      "Processing Record 39 of Set 11 | teknaf\n",
      "Processing Record 40 of Set 11 | panama city\n",
      "Processing Record 41 of Set 11 | isla mujeres\n",
      "Processing Record 42 of Set 11 | ejido\n",
      "Processing Record 43 of Set 11 | manzil tamim\n",
      "City not found. Skipping...\n",
      "Processing Record 44 of Set 11 | samusu\n",
      "City not found. Skipping...\n",
      "Processing Record 45 of Set 11 | ahome\n",
      "Processing Record 46 of Set 11 | olavarria\n",
      "Processing Record 47 of Set 11 | belyy yar\n",
      "Processing Record 48 of Set 11 | portobelo\n",
      "Processing Record 49 of Set 11 | hosakote\n",
      "Processing Record 0 of Set 12 | humaita\n",
      "Processing Record 1 of Set 12 | chandvad\n",
      "Processing Record 2 of Set 12 | carutapera\n",
      "Processing Record 3 of Set 12 | bay roberts\n",
      "Processing Record 4 of Set 12 | saint anthony\n",
      "Processing Record 5 of Set 12 | la romana\n",
      "Processing Record 6 of Set 12 | bhojudih\n",
      "Processing Record 7 of Set 12 | nicoya\n",
      "Processing Record 8 of Set 12 | mafinga\n",
      "Processing Record 9 of Set 12 | novi pazar\n",
      "Processing Record 10 of Set 12 | bantry\n",
      "Processing Record 11 of Set 12 | candelaria\n",
      "Processing Record 12 of Set 12 | maloy\n",
      "Processing Record 13 of Set 12 | maceio\n",
      "Processing Record 14 of Set 12 | verkhovazhye\n",
      "Processing Record 15 of Set 12 | teya\n",
      "Processing Record 16 of Set 12 | atambua\n",
      "Processing Record 17 of Set 12 | umzimvubu\n",
      "City not found. Skipping...\n",
      "Processing Record 18 of Set 12 | bodden town\n",
      "Processing Record 19 of Set 12 | rabak\n",
      "Processing Record 20 of Set 12 | beyneu\n",
      "Processing Record 21 of Set 12 | finschhafen\n",
      "Processing Record 22 of Set 12 | tarrafal\n",
      "Processing Record 23 of Set 12 | tura\n",
      "Processing Record 24 of Set 12 | luau\n",
      "Processing Record 25 of Set 12 | pisco\n",
      "Processing Record 26 of Set 12 | teluknaga\n",
      "Processing Record 27 of Set 12 | cap malheureux\n",
      "Processing Record 28 of Set 12 | naryan-mar\n",
      "Processing Record 29 of Set 12 | payakumbuh\n",
      "Processing Record 30 of Set 12 | nacala\n",
      "Processing Record 31 of Set 12 | cedar city\n",
      "Processing Record 32 of Set 12 | gangotri\n",
      "City not found. Skipping...\n",
      "Processing Record 33 of Set 12 | junction city\n",
      "Processing Record 34 of Set 12 | norfolk\n",
      "Processing Record 35 of Set 12 | krasnoselkup\n",
      "Processing Record 36 of Set 12 | paita\n",
      "Processing Record 37 of Set 12 | olinda\n",
      "Processing Record 38 of Set 12 | esmeraldas\n",
      "Processing Record 39 of Set 12 | karaul\n",
      "City not found. Skipping...\n",
      "Processing Record 40 of Set 12 | mopipi\n",
      "Processing Record 41 of Set 12 | umbertide\n",
      "Processing Record 42 of Set 12 | plouzane\n",
      "Processing Record 43 of Set 12 | sorong\n",
      "Processing Record 44 of Set 12 | san quintin\n",
      "Processing Record 45 of Set 12 | bowen\n",
      "Processing Record 46 of Set 12 | thoubal\n",
      "Processing Record 47 of Set 12 | drovyanaya\n",
      "Processing Record 48 of Set 12 | kibala\n",
      "Processing Record 49 of Set 12 | the valley\n",
      "Processing Record 0 of Set 13 | camara de lobos\n",
      "Processing Record 1 of Set 13 | polunochnoye\n",
      "-----------------------------\n",
      "Data Retrieval Complete      \n",
      "-----------------------------\n"
     ]
    }
   ],
   "source": [
    "# Loop through all the cities in our list to fetch weather data\n",
    "for i, city in enumerate(cities):\n",
    "\n",
    "    # Group cities in sets of 50 for logging purposes\n",
    "    if (i % 50 == 0 and i >= 50):\n",
    "        set_count +=1\n",
    "        record_count = 0\n",
    "        \n",
    "    # Create endpoint URL with each city\n",
    "    city_url = f\"https://api.openweathermap.org/data/2.5/weather?q={city}&appid={weather_api_key}&units=metric\"\n",
    "\n",
    "    # Log the url, record, and set numbers\n",
    "    print(\"Processing Record %s of Set %s | %s\" % (record_count, set_count, city))\n",
    "\n",
    "    # Add 1 to the record count\n",
    "    record_count += 1\n",
    "\n",
    "    # Run an API request for each of the cities\n",
    "    try:\n",
    "        # Parse the JSON and retrieve data\n",
    "        city_weather = requests.get(city_url).json()\n",
    "\n",
    "        # Parse out latitude, longitude, max temp, humidity, cloudiness, wind speed, country, and date\n",
    "        city_lat = city_weather[\"coord\"][\"lat\"]\n",
    "        city_lng = city_weather[\"coord\"][\"lon\"]\n",
    "        city_max_temp = city_weather[\"main\"][\"temp_max\"]\n",
    "        city_humidity = city_weather[\"main\"][\"humidity\"]\n",
    "        city_clouds = city_weather[\"clouds\"][\"all\"]\n",
    "        city_wind = city_weather[\"wind\"][\"speed\"]\n",
    "        city_country = city_weather[\"sys\"][\"country\"]\n",
    "        city_date = city_weather[\"dt\"]\n",
    "\n",
    "        # Append the City information into city_data list\n",
    "        city_data.append({\"City\": city, \n",
    "                          \"Lat\": city_lat, \n",
    "                          \"Lng\": city_lng, \n",
    "                          \"Max Temp\": city_max_temp,\n",
    "                          \"Humidity\": city_humidity,\n",
    "                          \"Cloudiness\": city_clouds,\n",
    "                          \"Wind Speed\": city_wind,\n",
    "                          \"Country\": city_country,\n",
    "                          \"Date\": city_date})\n",
    "                          \n",
    "    except:\n",
    "        print(\"City not found. Skipping...\")\n",
    "\n",
    "# Indicate that Data Loading is complete \n",
    "print(\"-----------------------------\")\n",
    "print(\"Data Retrieval Complete      \")\n",
    "print(\"-----------------------------\")"
   ]
  },
  {
   "cell_type": "code",
   "execution_count": 49,
   "metadata": {},
   "outputs": [
    {
     "data": {
      "text/plain": [
       "City          552\n",
       "Lat           552\n",
       "Lng           552\n",
       "Max Temp      552\n",
       "Humidity      552\n",
       "Cloudiness    552\n",
       "Wind Speed    552\n",
       "Country       552\n",
       "Date          552\n",
       "dtype: int64"
      ]
     },
     "execution_count": 49,
     "metadata": {},
     "output_type": "execute_result"
    }
   ],
   "source": [
    "# Convert the cities weather data into a Pandas DataFrame\n",
    "city_data_df = pd.DataFrame(city_data)\n",
    "city_data_df.count()\n"
   ]
  },
  {
   "cell_type": "code",
   "execution_count": 50,
   "metadata": {},
   "outputs": [
    {
     "data": {
      "text/html": [
       "<div>\n",
       "<style scoped>\n",
       "    .dataframe tbody tr th:only-of-type {\n",
       "        vertical-align: middle;\n",
       "    }\n",
       "\n",
       "    .dataframe tbody tr th {\n",
       "        vertical-align: top;\n",
       "    }\n",
       "\n",
       "    .dataframe thead th {\n",
       "        text-align: right;\n",
       "    }\n",
       "</style>\n",
       "<table border=\"1\" class=\"dataframe\">\n",
       "  <thead>\n",
       "    <tr style=\"text-align: right;\">\n",
       "      <th></th>\n",
       "      <th>City</th>\n",
       "      <th>Lat</th>\n",
       "      <th>Lng</th>\n",
       "      <th>Max Temp</th>\n",
       "      <th>Humidity</th>\n",
       "      <th>Cloudiness</th>\n",
       "      <th>Wind Speed</th>\n",
       "      <th>Country</th>\n",
       "      <th>Date</th>\n",
       "    </tr>\n",
       "  </thead>\n",
       "  <tbody>\n",
       "    <tr>\n",
       "      <th>0</th>\n",
       "      <td>qaanaaq</td>\n",
       "      <td>77.4840</td>\n",
       "      <td>-69.3632</td>\n",
       "      <td>-0.05</td>\n",
       "      <td>68</td>\n",
       "      <td>100</td>\n",
       "      <td>5.87</td>\n",
       "      <td>GL</td>\n",
       "      <td>1670340299</td>\n",
       "    </tr>\n",
       "    <tr>\n",
       "      <th>1</th>\n",
       "      <td>hobart</td>\n",
       "      <td>-42.8794</td>\n",
       "      <td>147.3294</td>\n",
       "      <td>9.92</td>\n",
       "      <td>82</td>\n",
       "      <td>75</td>\n",
       "      <td>2.57</td>\n",
       "      <td>AU</td>\n",
       "      <td>1670340051</td>\n",
       "    </tr>\n",
       "    <tr>\n",
       "      <th>2</th>\n",
       "      <td>avarua</td>\n",
       "      <td>-21.2078</td>\n",
       "      <td>-159.7750</td>\n",
       "      <td>24.03</td>\n",
       "      <td>94</td>\n",
       "      <td>75</td>\n",
       "      <td>6.69</td>\n",
       "      <td>CK</td>\n",
       "      <td>1670340301</td>\n",
       "    </tr>\n",
       "    <tr>\n",
       "      <th>3</th>\n",
       "      <td>muisne</td>\n",
       "      <td>0.6000</td>\n",
       "      <td>-80.0333</td>\n",
       "      <td>23.76</td>\n",
       "      <td>83</td>\n",
       "      <td>100</td>\n",
       "      <td>3.37</td>\n",
       "      <td>EC</td>\n",
       "      <td>1670340302</td>\n",
       "    </tr>\n",
       "    <tr>\n",
       "      <th>4</th>\n",
       "      <td>polyarnyy</td>\n",
       "      <td>69.1989</td>\n",
       "      <td>33.4478</td>\n",
       "      <td>-4.78</td>\n",
       "      <td>94</td>\n",
       "      <td>100</td>\n",
       "      <td>5.58</td>\n",
       "      <td>RU</td>\n",
       "      <td>1670340302</td>\n",
       "    </tr>\n",
       "  </tbody>\n",
       "</table>\n",
       "</div>"
      ],
      "text/plain": [
       "        City      Lat       Lng  Max Temp  Humidity  Cloudiness  Wind Speed  \\\n",
       "0    qaanaaq  77.4840  -69.3632     -0.05        68         100        5.87   \n",
       "1     hobart -42.8794  147.3294      9.92        82          75        2.57   \n",
       "2     avarua -21.2078 -159.7750     24.03        94          75        6.69   \n",
       "3     muisne   0.6000  -80.0333     23.76        83         100        3.37   \n",
       "4  polyarnyy  69.1989   33.4478     -4.78        94         100        5.58   \n",
       "\n",
       "  Country        Date  \n",
       "0      GL  1670340299  \n",
       "1      AU  1670340051  \n",
       "2      CK  1670340301  \n",
       "3      EC  1670340302  \n",
       "4      RU  1670340302  "
      ]
     },
     "execution_count": 50,
     "metadata": {},
     "output_type": "execute_result"
    }
   ],
   "source": [
    "city_data_df.head()"
   ]
  },
  {
   "cell_type": "code",
   "execution_count": 51,
   "metadata": {},
   "outputs": [],
   "source": [
    "# Export the city data frame into a csv\n",
    "city_data_df.to_csv(\"output_data/cities.csv\", index_label=\"City_ID\")"
   ]
  },
  {
   "cell_type": "code",
   "execution_count": 52,
   "metadata": {},
   "outputs": [
    {
     "data": {
      "text/html": [
       "<div>\n",
       "<style scoped>\n",
       "    .dataframe tbody tr th:only-of-type {\n",
       "        vertical-align: middle;\n",
       "    }\n",
       "\n",
       "    .dataframe tbody tr th {\n",
       "        vertical-align: top;\n",
       "    }\n",
       "\n",
       "    .dataframe thead th {\n",
       "        text-align: right;\n",
       "    }\n",
       "</style>\n",
       "<table border=\"1\" class=\"dataframe\">\n",
       "  <thead>\n",
       "    <tr style=\"text-align: right;\">\n",
       "      <th></th>\n",
       "      <th>City</th>\n",
       "      <th>Lat</th>\n",
       "      <th>Lng</th>\n",
       "      <th>Max Temp</th>\n",
       "      <th>Humidity</th>\n",
       "      <th>Cloudiness</th>\n",
       "      <th>Wind Speed</th>\n",
       "      <th>Country</th>\n",
       "      <th>Date</th>\n",
       "    </tr>\n",
       "    <tr>\n",
       "      <th>City_ID</th>\n",
       "      <th></th>\n",
       "      <th></th>\n",
       "      <th></th>\n",
       "      <th></th>\n",
       "      <th></th>\n",
       "      <th></th>\n",
       "      <th></th>\n",
       "      <th></th>\n",
       "      <th></th>\n",
       "    </tr>\n",
       "  </thead>\n",
       "  <tbody>\n",
       "    <tr>\n",
       "      <th>0</th>\n",
       "      <td>qaanaaq</td>\n",
       "      <td>77.4840</td>\n",
       "      <td>-69.3632</td>\n",
       "      <td>-0.05</td>\n",
       "      <td>68</td>\n",
       "      <td>100</td>\n",
       "      <td>5.87</td>\n",
       "      <td>GL</td>\n",
       "      <td>1670340299</td>\n",
       "    </tr>\n",
       "    <tr>\n",
       "      <th>1</th>\n",
       "      <td>hobart</td>\n",
       "      <td>-42.8794</td>\n",
       "      <td>147.3294</td>\n",
       "      <td>9.92</td>\n",
       "      <td>82</td>\n",
       "      <td>75</td>\n",
       "      <td>2.57</td>\n",
       "      <td>AU</td>\n",
       "      <td>1670340051</td>\n",
       "    </tr>\n",
       "    <tr>\n",
       "      <th>2</th>\n",
       "      <td>avarua</td>\n",
       "      <td>-21.2078</td>\n",
       "      <td>-159.7750</td>\n",
       "      <td>24.03</td>\n",
       "      <td>94</td>\n",
       "      <td>75</td>\n",
       "      <td>6.69</td>\n",
       "      <td>CK</td>\n",
       "      <td>1670340301</td>\n",
       "    </tr>\n",
       "    <tr>\n",
       "      <th>3</th>\n",
       "      <td>muisne</td>\n",
       "      <td>0.6000</td>\n",
       "      <td>-80.0333</td>\n",
       "      <td>23.76</td>\n",
       "      <td>83</td>\n",
       "      <td>100</td>\n",
       "      <td>3.37</td>\n",
       "      <td>EC</td>\n",
       "      <td>1670340302</td>\n",
       "    </tr>\n",
       "    <tr>\n",
       "      <th>4</th>\n",
       "      <td>polyarnyy</td>\n",
       "      <td>69.1989</td>\n",
       "      <td>33.4478</td>\n",
       "      <td>-4.78</td>\n",
       "      <td>94</td>\n",
       "      <td>100</td>\n",
       "      <td>5.58</td>\n",
       "      <td>RU</td>\n",
       "      <td>1670340302</td>\n",
       "    </tr>\n",
       "  </tbody>\n",
       "</table>\n",
       "</div>"
      ],
      "text/plain": [
       "              City      Lat       Lng  Max Temp  Humidity  Cloudiness  \\\n",
       "City_ID                                                                 \n",
       "0          qaanaaq  77.4840  -69.3632     -0.05        68         100   \n",
       "1           hobart -42.8794  147.3294      9.92        82          75   \n",
       "2           avarua -21.2078 -159.7750     24.03        94          75   \n",
       "3           muisne   0.6000  -80.0333     23.76        83         100   \n",
       "4        polyarnyy  69.1989   33.4478     -4.78        94         100   \n",
       "\n",
       "         Wind Speed Country        Date  \n",
       "City_ID                                  \n",
       "0              5.87      GL  1670340299  \n",
       "1              2.57      AU  1670340051  \n",
       "2              6.69      CK  1670340301  \n",
       "3              3.37      EC  1670340302  \n",
       "4              5.58      RU  1670340302  "
      ]
     },
     "execution_count": 52,
     "metadata": {},
     "output_type": "execute_result"
    }
   ],
   "source": [
    "# Read saved data\n",
    "city_data_df = pd.read_csv(\"output_data/cities.csv\", index_col=\"City_ID\")\n",
    "\n",
    "# Display sample data\n",
    "city_data_df.head()"
   ]
  },
  {
   "cell_type": "markdown",
   "metadata": {},
   "source": [
    "## Scatter Plots"
   ]
  },
  {
   "cell_type": "markdown",
   "metadata": {},
   "source": [
    "### a. Latitude vs. Temperature"
   ]
  },
  {
   "cell_type": "code",
   "execution_count": 53,
   "metadata": {},
   "outputs": [
    {
     "data": {
      "text/html": [
       "<div>\n",
       "<style scoped>\n",
       "    .dataframe tbody tr th:only-of-type {\n",
       "        vertical-align: middle;\n",
       "    }\n",
       "\n",
       "    .dataframe tbody tr th {\n",
       "        vertical-align: top;\n",
       "    }\n",
       "\n",
       "    .dataframe thead th {\n",
       "        text-align: right;\n",
       "    }\n",
       "</style>\n",
       "<table border=\"1\" class=\"dataframe\">\n",
       "  <thead>\n",
       "    <tr style=\"text-align: right;\">\n",
       "      <th></th>\n",
       "      <th>Lat</th>\n",
       "      <th>Max Temp</th>\n",
       "    </tr>\n",
       "    <tr>\n",
       "      <th>City_ID</th>\n",
       "      <th></th>\n",
       "      <th></th>\n",
       "    </tr>\n",
       "  </thead>\n",
       "  <tbody>\n",
       "    <tr>\n",
       "      <th>0</th>\n",
       "      <td>77.4840</td>\n",
       "      <td>-0.05</td>\n",
       "    </tr>\n",
       "    <tr>\n",
       "      <th>1</th>\n",
       "      <td>-42.8794</td>\n",
       "      <td>9.92</td>\n",
       "    </tr>\n",
       "    <tr>\n",
       "      <th>2</th>\n",
       "      <td>-21.2078</td>\n",
       "      <td>24.03</td>\n",
       "    </tr>\n",
       "    <tr>\n",
       "      <th>3</th>\n",
       "      <td>0.6000</td>\n",
       "      <td>23.76</td>\n",
       "    </tr>\n",
       "    <tr>\n",
       "      <th>4</th>\n",
       "      <td>69.1989</td>\n",
       "      <td>-4.78</td>\n",
       "    </tr>\n",
       "    <tr>\n",
       "      <th>...</th>\n",
       "      <td>...</td>\n",
       "      <td>...</td>\n",
       "    </tr>\n",
       "    <tr>\n",
       "      <th>547</th>\n",
       "      <td>51.5833</td>\n",
       "      <td>-10.78</td>\n",
       "    </tr>\n",
       "    <tr>\n",
       "      <th>548</th>\n",
       "      <td>9.1104</td>\n",
       "      <td>35.40</td>\n",
       "    </tr>\n",
       "    <tr>\n",
       "      <th>549</th>\n",
       "      <td>18.2170</td>\n",
       "      <td>28.94</td>\n",
       "    </tr>\n",
       "    <tr>\n",
       "      <th>550</th>\n",
       "      <td>32.6333</td>\n",
       "      <td>21.11</td>\n",
       "    </tr>\n",
       "    <tr>\n",
       "      <th>551</th>\n",
       "      <td>60.8697</td>\n",
       "      <td>-20.23</td>\n",
       "    </tr>\n",
       "  </tbody>\n",
       "</table>\n",
       "<p>552 rows × 2 columns</p>\n",
       "</div>"
      ],
      "text/plain": [
       "             Lat  Max Temp\n",
       "City_ID                   \n",
       "0        77.4840     -0.05\n",
       "1       -42.8794      9.92\n",
       "2       -21.2078     24.03\n",
       "3         0.6000     23.76\n",
       "4        69.1989     -4.78\n",
       "...          ...       ...\n",
       "547      51.5833    -10.78\n",
       "548       9.1104     35.40\n",
       "549      18.2170     28.94\n",
       "550      32.6333     21.11\n",
       "551      60.8697    -20.23\n",
       "\n",
       "[552 rows x 2 columns]"
      ]
     },
     "execution_count": 53,
     "metadata": {},
     "output_type": "execute_result"
    }
   ],
   "source": [
    "# Build the dataframe to store the latitudes and temperatures for each city\n",
    "lat_temp_df = city_data_df.loc[:, [\"Lat\", \"Max Temp\"]]\n",
    "lat_temp_df"
   ]
  },
  {
   "cell_type": "code",
   "execution_count": 54,
   "metadata": {},
   "outputs": [
    {
     "data": {
      "image/png": "[encoded data removed]",
      "text/plain": [
       "<Figure size 432x288 with 1 Axes>"
      ]
     },
     "metadata": {
      "needs_background": "light"
     },
     "output_type": "display_data"
    }
   ],
   "source": [
    "# Build Scatterplot\n",
    "lat_temp_df.plot.scatter(\"Lat\", \"Max Temp\")\n",
    "plt.xlabel(\"Latitude\")\n",
    "plt.ylabel(\"Max Temperature (C)\")\n",
    "plt.title(\"City Latitude vs. Max Temperature\")\n",
    "plt.grid()\n"
   ]
  },
  {
   "cell_type": "code",
   "execution_count": 55,
   "metadata": {},
   "outputs": [
    {
     "data": {
      "text/plain": [
       "<Figure size 432x288 with 0 Axes>"
      ]
     },
     "metadata": {},
     "output_type": "display_data"
    }
   ],
   "source": [
    "\n",
    "# Save the figure\n",
    "plt.savefig(\"output_data/Fig1.png\")"
   ]
  },
  {
   "cell_type": "markdown",
   "metadata": {},
   "source": [
    "### b. Latitude vs. Humidity"
   ]
  },
  {
   "cell_type": "code",
   "execution_count": 56,
   "metadata": {},
   "outputs": [],
   "source": [
    "# Build the dataframe to hold latitude and humidity for each city\n",
    "lat_humid_df = city_data_df.loc[:,[\"Lat\", \"Humidity\"]]"
   ]
  },
  {
   "cell_type": "code",
   "execution_count": 57,
   "metadata": {},
   "outputs": [
    {
     "data": {
      "image/png": "[encoded data removed]",
      "text/plain": [
       "<Figure size 432x288 with 1 Axes>"
      ]
     },
     "metadata": {
      "needs_background": "light"
     },
     "output_type": "display_data"
    }
   ],
   "source": [
    "lat_humid_df.plot.scatter(\"Lat\", \"Humidity\")\n",
    "plt.xlabel(\"Latitude\")\n",
    "plt.ylabel(\"Humidity %\")\n",
    "plt.title(\"City Latitude vs. Humidity\")\n",
    "plt.grid()"
   ]
  },
  {
   "cell_type": "code",
   "execution_count": 58,
   "metadata": {},
   "outputs": [
    {
     "data": {
      "text/plain": [
       "<Figure size 432x288 with 0 Axes>"
      ]
     },
     "metadata": {},
     "output_type": "display_data"
    }
   ],
   "source": [
    "# Save the figure\n",
    "plt.savefig(\"output_data/Fig2.png\")"
   ]
  },
  {
   "cell_type": "markdown",
   "metadata": {},
   "source": [
    "### c. Latitude vs. Cloudiness"
   ]
  },
  {
   "cell_type": "code",
   "execution_count": 59,
   "metadata": {},
   "outputs": [],
   "source": [
    "# Build the dataframe to hold latitude and humidity for each city\n",
    "lat_cloud_df = city_data_df.loc[:,[\"Lat\", \"Cloudiness\"]]"
   ]
  },
  {
   "cell_type": "code",
   "execution_count": 60,
   "metadata": {},
   "outputs": [
    {
     "data": {
      "image/png": "[encoded data removed]",
      "text/plain": [
       "<Figure size 432x288 with 1 Axes>"
      ]
     },
     "metadata": {
      "needs_background": "light"
     },
     "output_type": "display_data"
    }
   ],
   "source": [
    "# Build Scatterplot\n",
    "lat_cloud_df.plot.scatter(\"Lat\", \"Cloudiness\")\n",
    "plt.xlabel(\"Latitude\")\n",
    "plt.ylabel(\"Cloudiness (%)\")\n",
    "plt.title(\"City Latitude vs. Cloudiness\")\n",
    "plt.grid()"
   ]
  },
  {
   "cell_type": "code",
   "execution_count": 61,
   "metadata": {},
   "outputs": [
    {
     "data": {
      "text/plain": [
       "<Figure size 432x288 with 0 Axes>"
      ]
     },
     "metadata": {},
     "output_type": "display_data"
    }
   ],
   "source": [
    "# Save the figure\n",
    "plt.savefig(\"output_data/Fig3.png\")"
   ]
  },
  {
   "cell_type": "markdown",
   "metadata": {},
   "source": [
    "### d. Latitude vs. Wind Speed "
   ]
  },
  {
   "cell_type": "code",
   "execution_count": 62,
   "metadata": {},
   "outputs": [],
   "source": [
    "# Build the dataframe to hold latitude and humidity for each city\n",
    "lat_wind_df = city_data_df.loc[:,[\"Lat\", \"Wind Speed\"]]"
   ]
  },
  {
   "cell_type": "code",
   "execution_count": 63,
   "metadata": {},
   "outputs": [
    {
     "data": {
      "image/png": "[encoded data removed]",
      "text/plain": [
       "<Figure size 432x288 with 1 Axes>"
      ]
     },
     "metadata": {
      "needs_background": "light"
     },
     "output_type": "display_data"
    }
   ],
   "source": [
    "# Build Scatter plot\n",
    "lat_wind_df.plot.scatter(\"Lat\", \"Wind Speed\")\n",
    "plt.xlabel(\"Latitude\")\n",
    "plt.ylabel(\"Wind Speed (m/s)\")\n",
    "plt.title(\"City Latitude vs. Wind Speed\")\n",
    "plt.grid()"
   ]
  },
  {
   "cell_type": "code",
   "execution_count": 64,
   "metadata": {},
   "outputs": [
    {
     "data": {
      "text/plain": [
       "<Figure size 432x288 with 0 Axes>"
      ]
     },
     "metadata": {},
     "output_type": "display_data"
    }
   ],
   "source": [
    "# Save the figure\n",
    "plt.savefig(\"output_data/Fig4.png\")"
   ]
  },
  {
   "cell_type": "markdown",
   "metadata": {},
   "source": [
    "# Requirement 2: Compute Linear Regression for Each Relationship"
   ]
  },
  {
   "cell_type": "markdown",
   "metadata": {},
   "source": [
    "## Function to create linear regression plots"
   ]
  },
  {
   "cell_type": "code",
   "execution_count": 65,
   "metadata": {},
   "outputs": [],
   "source": [
    "# Write Function for Linear Regression\n",
    "def linreg(x_values, y_values):\n",
    "    (slope, intercept, rvalue, pvalue, stderr) = linregress(x_values, y_values)\n",
    "    \n",
    "    regress_values = [float(slope)*x_values[i]+intercept for i in range(len(x_values))]\n",
    "    \n",
    "    line_eq = \"y = \" + str(round(slope,2)) + \"x + \" + str(round(intercept,2))       #Getting ready to write the equation on the graph\n",
    "\n",
    "    plt.scatter(x_values,y_values)          #Create scatter plot \n",
    "    plt.plot(x_values,regress_values,\"b-\")      # Plotting red line\n",
    "    plt.xlabel(\"Latitude\")\n",
    "    \n",
    "    print(f\"The r value is: {rvalue}\")\n",
    "\n",
    "    return line_eq\n",
    "    \n"
   ]
  },
  {
   "cell_type": "markdown",
   "metadata": {},
   "source": [
    "## Divide DataFrame by Hemisphere"
   ]
  },
  {
   "cell_type": "code",
   "execution_count": 66,
   "metadata": {},
   "outputs": [
    {
     "data": {
      "text/html": [
       "<div>\n",
       "<style scoped>\n",
       "    .dataframe tbody tr th:only-of-type {\n",
       "        vertical-align: middle;\n",
       "    }\n",
       "\n",
       "    .dataframe tbody tr th {\n",
       "        vertical-align: top;\n",
       "    }\n",
       "\n",
       "    .dataframe thead th {\n",
       "        text-align: right;\n",
       "    }\n",
       "</style>\n",
       "<table border=\"1\" class=\"dataframe\">\n",
       "  <thead>\n",
       "    <tr style=\"text-align: right;\">\n",
       "      <th></th>\n",
       "      <th>City</th>\n",
       "      <th>Lat</th>\n",
       "      <th>Lng</th>\n",
       "      <th>Max Temp</th>\n",
       "      <th>Humidity</th>\n",
       "      <th>Cloudiness</th>\n",
       "      <th>Wind Speed</th>\n",
       "      <th>Country</th>\n",
       "      <th>Date</th>\n",
       "    </tr>\n",
       "    <tr>\n",
       "      <th>City_ID</th>\n",
       "      <th></th>\n",
       "      <th></th>\n",
       "      <th></th>\n",
       "      <th></th>\n",
       "      <th></th>\n",
       "      <th></th>\n",
       "      <th></th>\n",
       "      <th></th>\n",
       "      <th></th>\n",
       "    </tr>\n",
       "  </thead>\n",
       "  <tbody>\n",
       "    <tr>\n",
       "      <th>0</th>\n",
       "      <td>qaanaaq</td>\n",
       "      <td>77.4840</td>\n",
       "      <td>-69.3632</td>\n",
       "      <td>-0.05</td>\n",
       "      <td>68</td>\n",
       "      <td>100</td>\n",
       "      <td>5.87</td>\n",
       "      <td>GL</td>\n",
       "      <td>1670340299</td>\n",
       "    </tr>\n",
       "    <tr>\n",
       "      <th>3</th>\n",
       "      <td>muisne</td>\n",
       "      <td>0.6000</td>\n",
       "      <td>-80.0333</td>\n",
       "      <td>23.76</td>\n",
       "      <td>83</td>\n",
       "      <td>100</td>\n",
       "      <td>3.37</td>\n",
       "      <td>EC</td>\n",
       "      <td>1670340302</td>\n",
       "    </tr>\n",
       "    <tr>\n",
       "      <th>4</th>\n",
       "      <td>polyarnyy</td>\n",
       "      <td>69.1989</td>\n",
       "      <td>33.4478</td>\n",
       "      <td>-4.78</td>\n",
       "      <td>94</td>\n",
       "      <td>100</td>\n",
       "      <td>5.58</td>\n",
       "      <td>RU</td>\n",
       "      <td>1670340302</td>\n",
       "    </tr>\n",
       "    <tr>\n",
       "      <th>5</th>\n",
       "      <td>ponta do sol</td>\n",
       "      <td>32.6667</td>\n",
       "      <td>-17.1000</td>\n",
       "      <td>21.11</td>\n",
       "      <td>86</td>\n",
       "      <td>97</td>\n",
       "      <td>4.18</td>\n",
       "      <td>PT</td>\n",
       "      <td>1670340303</td>\n",
       "    </tr>\n",
       "    <tr>\n",
       "      <th>6</th>\n",
       "      <td>dikson</td>\n",
       "      <td>73.5069</td>\n",
       "      <td>80.5464</td>\n",
       "      <td>-15.46</td>\n",
       "      <td>98</td>\n",
       "      <td>96</td>\n",
       "      <td>3.14</td>\n",
       "      <td>RU</td>\n",
       "      <td>1670340304</td>\n",
       "    </tr>\n",
       "    <tr>\n",
       "      <th>...</th>\n",
       "      <td>...</td>\n",
       "      <td>...</td>\n",
       "      <td>...</td>\n",
       "      <td>...</td>\n",
       "      <td>...</td>\n",
       "      <td>...</td>\n",
       "      <td>...</td>\n",
       "      <td>...</td>\n",
       "      <td>...</td>\n",
       "    </tr>\n",
       "    <tr>\n",
       "      <th>547</th>\n",
       "      <td>drovyanaya</td>\n",
       "      <td>51.5833</td>\n",
       "      <td>113.0333</td>\n",
       "      <td>-10.78</td>\n",
       "      <td>71</td>\n",
       "      <td>68</td>\n",
       "      <td>5.90</td>\n",
       "      <td>RU</td>\n",
       "      <td>1670340598</td>\n",
       "    </tr>\n",
       "    <tr>\n",
       "      <th>548</th>\n",
       "      <td>kibala</td>\n",
       "      <td>9.1104</td>\n",
       "      <td>18.3463</td>\n",
       "      <td>35.40</td>\n",
       "      <td>14</td>\n",
       "      <td>32</td>\n",
       "      <td>3.59</td>\n",
       "      <td>TD</td>\n",
       "      <td>1670340599</td>\n",
       "    </tr>\n",
       "    <tr>\n",
       "      <th>549</th>\n",
       "      <td>the valley</td>\n",
       "      <td>18.2170</td>\n",
       "      <td>-63.0578</td>\n",
       "      <td>28.94</td>\n",
       "      <td>65</td>\n",
       "      <td>20</td>\n",
       "      <td>3.60</td>\n",
       "      <td>AI</td>\n",
       "      <td>1670340599</td>\n",
       "    </tr>\n",
       "    <tr>\n",
       "      <th>550</th>\n",
       "      <td>camara de lobos</td>\n",
       "      <td>32.6333</td>\n",
       "      <td>-16.9667</td>\n",
       "      <td>21.11</td>\n",
       "      <td>92</td>\n",
       "      <td>75</td>\n",
       "      <td>6.17</td>\n",
       "      <td>PT</td>\n",
       "      <td>1670340600</td>\n",
       "    </tr>\n",
       "    <tr>\n",
       "      <th>551</th>\n",
       "      <td>polunochnoye</td>\n",
       "      <td>60.8697</td>\n",
       "      <td>60.4153</td>\n",
       "      <td>-20.23</td>\n",
       "      <td>98</td>\n",
       "      <td>25</td>\n",
       "      <td>1.46</td>\n",
       "      <td>RU</td>\n",
       "      <td>1670340600</td>\n",
       "    </tr>\n",
       "  </tbody>\n",
       "</table>\n",
       "<p>373 rows × 9 columns</p>\n",
       "</div>"
      ],
      "text/plain": [
       "                    City      Lat       Lng  Max Temp  Humidity  Cloudiness  \\\n",
       "City_ID                                                                       \n",
       "0                qaanaaq  77.4840  -69.3632     -0.05        68         100   \n",
       "3                 muisne   0.6000  -80.0333     23.76        83         100   \n",
       "4              polyarnyy  69.1989   33.4478     -4.78        94         100   \n",
       "5           ponta do sol  32.6667  -17.1000     21.11        86          97   \n",
       "6                 dikson  73.5069   80.5464    -15.46        98          96   \n",
       "...                  ...      ...       ...       ...       ...         ...   \n",
       "547           drovyanaya  51.5833  113.0333    -10.78        71          68   \n",
       "548               kibala   9.1104   18.3463     35.40        14          32   \n",
       "549           the valley  18.2170  -63.0578     28.94        65          20   \n",
       "550      camara de lobos  32.6333  -16.9667     21.11        92          75   \n",
       "551         polunochnoye  60.8697   60.4153    -20.23        98          25   \n",
       "\n",
       "         Wind Speed Country        Date  \n",
       "City_ID                                  \n",
       "0              5.87      GL  1670340299  \n",
       "3              3.37      EC  1670340302  \n",
       "4              5.58      RU  1670340302  \n",
       "5              4.18      PT  1670340303  \n",
       "6              3.14      RU  1670340304  \n",
       "...             ...     ...         ...  \n",
       "547            5.90      RU  1670340598  \n",
       "548            3.59      TD  1670340599  \n",
       "549            3.60      AI  1670340599  \n",
       "550            6.17      PT  1670340600  \n",
       "551            1.46      RU  1670340600  \n",
       "\n",
       "[373 rows x 9 columns]"
      ]
     },
     "execution_count": 66,
     "metadata": {},
     "output_type": "execute_result"
    }
   ],
   "source": [
    "# Create a DataFrame with the Northern Hemisphere data (Latitude >= 0)\n",
    "N_hemi_df = city_data_df.loc[city_data_df[\"Lat\"] >= 0, :]\n",
    "\n",
    "N_hemi_df"
   ]
  },
  {
   "cell_type": "code",
   "execution_count": 67,
   "metadata": {},
   "outputs": [
    {
     "data": {
      "text/html": [
       "<div>\n",
       "<style scoped>\n",
       "    .dataframe tbody tr th:only-of-type {\n",
       "        vertical-align: middle;\n",
       "    }\n",
       "\n",
       "    .dataframe tbody tr th {\n",
       "        vertical-align: top;\n",
       "    }\n",
       "\n",
       "    .dataframe thead th {\n",
       "        text-align: right;\n",
       "    }\n",
       "</style>\n",
       "<table border=\"1\" class=\"dataframe\">\n",
       "  <thead>\n",
       "    <tr style=\"text-align: right;\">\n",
       "      <th></th>\n",
       "      <th>City</th>\n",
       "      <th>Lat</th>\n",
       "      <th>Lng</th>\n",
       "      <th>Max Temp</th>\n",
       "      <th>Humidity</th>\n",
       "      <th>Cloudiness</th>\n",
       "      <th>Wind Speed</th>\n",
       "      <th>Country</th>\n",
       "      <th>Date</th>\n",
       "    </tr>\n",
       "    <tr>\n",
       "      <th>City_ID</th>\n",
       "      <th></th>\n",
       "      <th></th>\n",
       "      <th></th>\n",
       "      <th></th>\n",
       "      <th></th>\n",
       "      <th></th>\n",
       "      <th></th>\n",
       "      <th></th>\n",
       "      <th></th>\n",
       "    </tr>\n",
       "  </thead>\n",
       "  <tbody>\n",
       "    <tr>\n",
       "      <th>1</th>\n",
       "      <td>hobart</td>\n",
       "      <td>-42.8794</td>\n",
       "      <td>147.3294</td>\n",
       "      <td>9.92</td>\n",
       "      <td>82</td>\n",
       "      <td>75</td>\n",
       "      <td>2.57</td>\n",
       "      <td>AU</td>\n",
       "      <td>1670340051</td>\n",
       "    </tr>\n",
       "    <tr>\n",
       "      <th>2</th>\n",
       "      <td>avarua</td>\n",
       "      <td>-21.2078</td>\n",
       "      <td>-159.7750</td>\n",
       "      <td>24.03</td>\n",
       "      <td>94</td>\n",
       "      <td>75</td>\n",
       "      <td>6.69</td>\n",
       "      <td>CK</td>\n",
       "      <td>1670340301</td>\n",
       "    </tr>\n",
       "    <tr>\n",
       "      <th>9</th>\n",
       "      <td>vaini</td>\n",
       "      <td>-21.2000</td>\n",
       "      <td>-175.2000</td>\n",
       "      <td>25.09</td>\n",
       "      <td>88</td>\n",
       "      <td>75</td>\n",
       "      <td>2.06</td>\n",
       "      <td>TO</td>\n",
       "      <td>1670340307</td>\n",
       "    </tr>\n",
       "    <tr>\n",
       "      <th>11</th>\n",
       "      <td>maldonado</td>\n",
       "      <td>-34.6667</td>\n",
       "      <td>-54.9167</td>\n",
       "      <td>32.66</td>\n",
       "      <td>19</td>\n",
       "      <td>0</td>\n",
       "      <td>1.20</td>\n",
       "      <td>UY</td>\n",
       "      <td>1670340309</td>\n",
       "    </tr>\n",
       "    <tr>\n",
       "      <th>12</th>\n",
       "      <td>port alfred</td>\n",
       "      <td>-33.5906</td>\n",
       "      <td>26.8910</td>\n",
       "      <td>22.88</td>\n",
       "      <td>74</td>\n",
       "      <td>12</td>\n",
       "      <td>0.89</td>\n",
       "      <td>ZA</td>\n",
       "      <td>1670340309</td>\n",
       "    </tr>\n",
       "    <tr>\n",
       "      <th>...</th>\n",
       "      <td>...</td>\n",
       "      <td>...</td>\n",
       "      <td>...</td>\n",
       "      <td>...</td>\n",
       "      <td>...</td>\n",
       "      <td>...</td>\n",
       "      <td>...</td>\n",
       "      <td>...</td>\n",
       "      <td>...</td>\n",
       "    </tr>\n",
       "    <tr>\n",
       "      <th>538</th>\n",
       "      <td>olinda</td>\n",
       "      <td>-8.0089</td>\n",
       "      <td>-34.8553</td>\n",
       "      <td>28.85</td>\n",
       "      <td>61</td>\n",
       "      <td>40</td>\n",
       "      <td>4.12</td>\n",
       "      <td>BR</td>\n",
       "      <td>1670340463</td>\n",
       "    </tr>\n",
       "    <tr>\n",
       "      <th>539</th>\n",
       "      <td>esmeraldas</td>\n",
       "      <td>-19.7625</td>\n",
       "      <td>-44.3139</td>\n",
       "      <td>21.17</td>\n",
       "      <td>95</td>\n",
       "      <td>100</td>\n",
       "      <td>1.50</td>\n",
       "      <td>BR</td>\n",
       "      <td>1670340594</td>\n",
       "    </tr>\n",
       "    <tr>\n",
       "      <th>540</th>\n",
       "      <td>mopipi</td>\n",
       "      <td>-21.1833</td>\n",
       "      <td>24.8833</td>\n",
       "      <td>33.17</td>\n",
       "      <td>27</td>\n",
       "      <td>59</td>\n",
       "      <td>7.89</td>\n",
       "      <td>BW</td>\n",
       "      <td>1670340595</td>\n",
       "    </tr>\n",
       "    <tr>\n",
       "      <th>543</th>\n",
       "      <td>sorong</td>\n",
       "      <td>-0.8833</td>\n",
       "      <td>131.2500</td>\n",
       "      <td>25.80</td>\n",
       "      <td>86</td>\n",
       "      <td>90</td>\n",
       "      <td>3.19</td>\n",
       "      <td>ID</td>\n",
       "      <td>1670340596</td>\n",
       "    </tr>\n",
       "    <tr>\n",
       "      <th>545</th>\n",
       "      <td>bowen</td>\n",
       "      <td>-20.0167</td>\n",
       "      <td>148.2333</td>\n",
       "      <td>25.68</td>\n",
       "      <td>65</td>\n",
       "      <td>0</td>\n",
       "      <td>2.46</td>\n",
       "      <td>AU</td>\n",
       "      <td>1670340597</td>\n",
       "    </tr>\n",
       "  </tbody>\n",
       "</table>\n",
       "<p>179 rows × 9 columns</p>\n",
       "</div>"
      ],
      "text/plain": [
       "                City      Lat       Lng  Max Temp  Humidity  Cloudiness  \\\n",
       "City_ID                                                                   \n",
       "1             hobart -42.8794  147.3294      9.92        82          75   \n",
       "2             avarua -21.2078 -159.7750     24.03        94          75   \n",
       "9              vaini -21.2000 -175.2000     25.09        88          75   \n",
       "11         maldonado -34.6667  -54.9167     32.66        19           0   \n",
       "12       port alfred -33.5906   26.8910     22.88        74          12   \n",
       "...              ...      ...       ...       ...       ...         ...   \n",
       "538           olinda  -8.0089  -34.8553     28.85        61          40   \n",
       "539       esmeraldas -19.7625  -44.3139     21.17        95         100   \n",
       "540           mopipi -21.1833   24.8833     33.17        27          59   \n",
       "543           sorong  -0.8833  131.2500     25.80        86          90   \n",
       "545            bowen -20.0167  148.2333     25.68        65           0   \n",
       "\n",
       "         Wind Speed Country        Date  \n",
       "City_ID                                  \n",
       "1              2.57      AU  1670340051  \n",
       "2              6.69      CK  1670340301  \n",
       "9              2.06      TO  1670340307  \n",
       "11             1.20      UY  1670340309  \n",
       "12             0.89      ZA  1670340309  \n",
       "...             ...     ...         ...  \n",
       "538            4.12      BR  1670340463  \n",
       "539            1.50      BR  1670340594  \n",
       "540            7.89      BW  1670340595  \n",
       "543            3.19      ID  1670340596  \n",
       "545            2.46      AU  1670340597  \n",
       "\n",
       "[179 rows x 9 columns]"
      ]
     },
     "execution_count": 67,
     "metadata": {},
     "output_type": "execute_result"
    }
   ],
   "source": [
    "# Create a DataFrame with the Southern Hemisphere data (Latitude < 0)\n",
    "S_hemi_df = city_data_df.loc[city_data_df[\"Lat\"] < 0, :]\n",
    "\n",
    "S_hemi_df"
   ]
  },
  {
   "cell_type": "markdown",
   "metadata": {},
   "source": [
    "## Scatterplots"
   ]
  },
  {
   "cell_type": "markdown",
   "metadata": {},
   "source": [
    "### a. Northern Hemisphere: Temperature vs. Latitude"
   ]
  },
  {
   "cell_type": "code",
   "execution_count": 68,
   "metadata": {},
   "outputs": [
    {
     "name": "stdout",
     "output_type": "stream",
     "text": [
      "The r value is: -0.8454579788296713\n"
     ]
    },
    {
     "data": {
      "text/plain": [
       "Text(0, -30, 'y = -0.71x + 34.24')"
      ]
     },
     "execution_count": 68,
     "metadata": {},
     "output_type": "execute_result"
    },
    {
     "data": {
      "image/png": "[encoded data removed]",
      "text/plain": [
       "<Figure size 432x288 with 1 Axes>"
      ]
     },
     "metadata": {
      "needs_background": "light"
     },
     "output_type": "display_data"
    }
   ],
   "source": [
    "regress_a = linreg(list(N_hemi_df[\"Lat\"]), list(N_hemi_df[\"Max Temp\"]))\n",
    "plt.ylabel(\"Max Temp C\")\n",
    "plt.title(\"N Hemisphere: Latitude vs. Temperature\")\n",
    "plt.annotate(regress_a,(0,-30),fontsize=15,color=\"red\") # Graphing the equation on the plot \n"
   ]
  },
  {
   "cell_type": "markdown",
   "metadata": {},
   "source": [
    "### b. Southern Hemisphere: Temperature vs. Latitude"
   ]
  },
  {
   "cell_type": "code",
   "execution_count": 69,
   "metadata": {},
   "outputs": [
    {
     "name": "stdout",
     "output_type": "stream",
     "text": [
      "The r value is: 0.5940573823508946\n"
     ]
    },
    {
     "data": {
      "text/plain": [
       "Text(-30, 10, 'y = 0.3x + 29.57')"
      ]
     },
     "execution_count": 69,
     "metadata": {},
     "output_type": "execute_result"
    },
    {
     "data": {
      "image/png": "[encoded data removed]",
      "text/plain": [
       "<Figure size 432x288 with 1 Axes>"
      ]
     },
     "metadata": {
      "needs_background": "light"
     },
     "output_type": "display_data"
    }
   ],
   "source": [
    "regress_b = linreg(list(S_hemi_df[\"Lat\"]), list(S_hemi_df[\"Max Temp\"]))\n",
    "plt.ylabel(\"Max Temp C\")\n",
    "plt.title(\"S Hemisphere: Latitude vs. Temperature\")\n",
    "plt.annotate(regress_b,(-30,10),fontsize=15,color=\"red\") # Graphing the equation on the plot "
   ]
  },
  {
   "cell_type": "markdown",
   "metadata": {},
   "source": [
    "### Discussion about linear relationships between Temperature and Latitude\n",
    "\n",
    "There is a negative linear relationship between temperature and latitude for cities in the Northern hemisphere, while the relationship is positive in the Southern hemisphere. This can be explained by the fact that as you approach the Equator, the temperature increases, and as you depart from the equator, the temperature decreases. "
   ]
  },
  {
   "cell_type": "markdown",
   "metadata": {},
   "source": [
    "### c. Norther Hemisphere: Humidity vs. Latitude"
   ]
  },
  {
   "cell_type": "code",
   "execution_count": 70,
   "metadata": {},
   "outputs": [
    {
     "name": "stdout",
     "output_type": "stream",
     "text": [
      "The r value is: 0.3940285179467069\n"
     ]
    },
    {
     "data": {
      "text/plain": [
       "Text(40, 20, 'y = 0.38x + 60.6')"
      ]
     },
     "execution_count": 70,
     "metadata": {},
     "output_type": "execute_result"
    },
    {
     "data": {
      "image/png": "[encoded data removed]",
      "text/plain": [
       "<Figure size 432x288 with 1 Axes>"
      ]
     },
     "metadata": {
      "needs_background": "light"
     },
     "output_type": "display_data"
    }
   ],
   "source": [
    "regress_c = linreg(list(N_hemi_df[\"Lat\"]), list(N_hemi_df[\"Humidity\"]))\n",
    "plt.ylabel(\"Humidity %\")\n",
    "plt.title(\"N Hemisphere: Latitude vs. Humidity\")\n",
    "plt.annotate(regress_c,(40,20),fontsize=15,color=\"red\") # Graphing the equation on the plot "
   ]
  },
  {
   "cell_type": "markdown",
   "metadata": {},
   "source": [
    "### d. Southern Hemisphere: Humidity vs. Latitude"
   ]
  },
  {
   "cell_type": "code",
   "execution_count": 71,
   "metadata": {},
   "outputs": [
    {
     "name": "stdout",
     "output_type": "stream",
     "text": [
      "The r value is: 0.15656065539119565\n"
     ]
    },
    {
     "data": {
      "text/plain": [
       "Text(-25, 20, 'y = 0.23x + 72.04')"
      ]
     },
     "execution_count": 71,
     "metadata": {},
     "output_type": "execute_result"
    },
    {
     "data": {
      "image/png": "[encoded data removed]",
      "text/plain": [
       "<Figure size 432x288 with 1 Axes>"
      ]
     },
     "metadata": {
      "needs_background": "light"
     },
     "output_type": "display_data"
    }
   ],
   "source": [
    "regress_d = linreg(list(S_hemi_df[\"Lat\"]), list(S_hemi_df[\"Humidity\"]))\n",
    "plt.ylabel(\"Humidity %\")\n",
    "plt.title(\"S Hemisphere: Latitude vs. Humidity\")\n",
    "plt.annotate(regress_d,(-25,20),fontsize=15,color=\"red\") # Graphing the equation on the plot "
   ]
  },
  {
   "cell_type": "markdown",
   "metadata": {},
   "source": [
    "### Discussion about linear relationships between Humidity and Latitude\n",
    "\n",
    "There looks to be a stronger linear relationship between humidity abd latitude in the Northern hemisphere compared to the Southern with correlation coefficients of 0.39 and 0.12, respectively. Both, however, are weakly correlated. "
   ]
  },
  {
   "cell_type": "markdown",
   "metadata": {},
   "source": [
    "### e. Northern Hemisphere: Cloudiness vs. Latitude"
   ]
  },
  {
   "cell_type": "code",
   "execution_count": 72,
   "metadata": {},
   "outputs": [
    {
     "name": "stdout",
     "output_type": "stream",
     "text": [
      "The r value is: 0.24473407352181245\n"
     ]
    },
    {
     "data": {
      "text/plain": [
       "Text(35, 30, 'y = 0.45x + 45.65')"
      ]
     },
     "execution_count": 72,
     "metadata": {},
     "output_type": "execute_result"
    },
    {
     "data": {
      "image/png": "[encoded data removed]",
      "text/plain": [
       "<Figure size 432x288 with 1 Axes>"
      ]
     },
     "metadata": {
      "needs_background": "light"
     },
     "output_type": "display_data"
    }
   ],
   "source": [
    "regress_e = linreg(list(N_hemi_df[\"Lat\"]), list(N_hemi_df[\"Cloudiness\"]))\n",
    "plt.ylabel(\"Cloudiness %\")\n",
    "plt.title(\"N Hemisphere: Latitude vs. Cloudiness\")\n",
    "plt.annotate(regress_e,(35,30),fontsize=15,color=\"red\") # Graphing the equation on the plot "
   ]
  },
  {
   "cell_type": "markdown",
   "metadata": {},
   "source": [
    "### f. Southern Hemisphere: Cloudiness vs. Latitude"
   ]
  },
  {
   "cell_type": "code",
   "execution_count": 73,
   "metadata": {},
   "outputs": [
    {
     "name": "stdout",
     "output_type": "stream",
     "text": [
      "The r value is: 0.41696844527905275\n"
     ]
    },
    {
     "data": {
      "text/plain": [
       "Text(-55, 55, 'y = 1.16x + 76.2')"
      ]
     },
     "execution_count": 73,
     "metadata": {},
     "output_type": "execute_result"
    },
    {
     "data": {
      "image/png": "[encoded data removed]",
      "text/plain": [
       "<Figure size 432x288 with 1 Axes>"
      ]
     },
     "metadata": {
      "needs_background": "light"
     },
     "output_type": "display_data"
    }
   ],
   "source": [
    "regress_f = linreg(list(S_hemi_df[\"Lat\"]), list(S_hemi_df[\"Cloudiness\"]))\n",
    "plt.ylabel(\"Cloudiness %\")\n",
    "plt.title(\"S Hemisphere: Latitude vs. Cloudiness\")\n",
    "plt.annotate(regress_f,(-55,55),fontsize=15,color=\"red\") # Graphing the equation on the plot "
   ]
  },
  {
   "cell_type": "markdown",
   "metadata": {},
   "source": [
    "### Discussion about linear relationships between Cloudiness and Latitude\n",
    "\n",
    "There does not appear to be a linear correlation between cloudiness and latitude as both hemispheres have a correlation coefficient under 0.2. Both plots are extremely scattered. "
   ]
  },
  {
   "cell_type": "markdown",
   "metadata": {},
   "source": [
    "### g. Northern Hemisphere: Wind Speed vs. Latitude"
   ]
  },
  {
   "cell_type": "code",
   "execution_count": 74,
   "metadata": {},
   "outputs": [
    {
     "name": "stdout",
     "output_type": "stream",
     "text": [
      "The r value is: 0.09518639996296924\n"
     ]
    },
    {
     "data": {
      "text/plain": [
       "Text(10, 12.5, 'y = 0.01x + 3.22')"
      ]
     },
     "execution_count": 74,
     "metadata": {},
     "output_type": "execute_result"
    },
    {
     "data": {
      "image/png": "[encoded data removed]",
      "text/plain": [
       "<Figure size 432x288 with 1 Axes>"
      ]
     },
     "metadata": {
      "needs_background": "light"
     },
     "output_type": "display_data"
    }
   ],
   "source": [
    "regress_g = linreg(list(N_hemi_df[\"Lat\"]), list(N_hemi_df[\"Wind Speed\"]))\n",
    "plt.ylabel(\"Wind Speed m/s\")\n",
    "plt.title(\"N Hemisphere: Latitude vs. Wind Speed\")\n",
    "plt.annotate(regress_g,(10,12.5),fontsize=15,color=\"red\") # Graphing the equation on the plot "
   ]
  },
  {
   "cell_type": "markdown",
   "metadata": {},
   "source": [
    "### h. Southern Hemisphere: Wind Speed vs. Latitude"
   ]
  },
  {
   "cell_type": "code",
   "execution_count": 75,
   "metadata": {},
   "outputs": [
    {
     "name": "stdout",
     "output_type": "stream",
     "text": [
      "The r value is: -0.20014675737159443\n"
     ]
    },
    {
     "data": {
      "text/plain": [
       "Text(-50, 10, 'y = -0.04x + 3.28')"
      ]
     },
     "execution_count": 75,
     "metadata": {},
     "output_type": "execute_result"
    },
    {
     "data": {
      "image/png": "[encoded data removed]",
      "text/plain": [
       "<Figure size 432x288 with 1 Axes>"
      ]
     },
     "metadata": {
      "needs_background": "light"
     },
     "output_type": "display_data"
    }
   ],
   "source": [
    "regress_h = linreg(list(S_hemi_df[\"Lat\"]), list(S_hemi_df[\"Wind Speed\"]))\n",
    "plt.ylabel(\"Wind Speed m/s\")\n",
    "plt.title(\"S Hemisphere: Latitude vs. Wind Speed\")\n",
    "plt.annotate(regress_h,(-50,10),fontsize=15,color=\"red\") # Graphing the equation on the plot "
   ]
  },
  {
   "cell_type": "markdown",
   "metadata": {},
   "source": [
    "### Discussion about linear relationships between Wind Speed and Latitude\n",
    "\n",
    "There are weak linear correlations between wind speed and latitude in both hemispheres. There are general trends showing the wind speed to be higher closer to the Earth's poles and weaker towards the Equator. "
   ]
  },
  {
   "cell_type": "markdown",
   "metadata": {},
   "source": []
  }
 ],
 "metadata": {
  "kernelspec": {
   "display_name": "Python 3.9.12 ('base')",
   "language": "python",
   "name": "python3"
  },
  "language_info": {
   "codemirror_mode": {
    "name": "ipython",
    "version": 3
   },
   "file_extension": ".py",
   "mimetype": "text/x-python",
   "name": "python",
   "nbconvert_exporter": "python",
   "pygments_lexer": "ipython3",
   "version": "3.9.12"
  },
  "orig_nbformat": 4,
  "vscode": {
   "interpreter": {
    "hash": "8ca3c2b93fec3a68989a8a35ad4ad37f554c7436255229aa8dbd97e50d16e03f"
   }
  }
 },
 "nbformat": 4,
 "nbformat_minor": 2
}
